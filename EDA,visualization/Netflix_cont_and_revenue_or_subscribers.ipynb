{
 "cells": [
  {
   "cell_type": "markdown",
   "id": "f97cc3a1",
   "metadata": {},
   "source": [
    "# 3. 시장 측면: 국가(대륙) 간 상관관계 분석\n",
    "\n",
    "* 비고) cont_df.csv, NetflixsRevenue2018toQ2_2020.csv, NetflixSubscribersbyCountryfrom2018toQ2_2020.csv 활용\n",
    "* 수익, 구독자 수와의 상관관계 분석\n"
   ]
  },
  {
   "cell_type": "code",
   "execution_count": 77,
   "id": "04cd3128",
   "metadata": {},
   "outputs": [
    {
     "data": {
      "text/html": [
       "<div>\n",
       "<style scoped>\n",
       "    .dataframe tbody tr th:only-of-type {\n",
       "        vertical-align: middle;\n",
       "    }\n",
       "\n",
       "    .dataframe tbody tr th {\n",
       "        vertical-align: top;\n",
       "    }\n",
       "\n",
       "    .dataframe thead th {\n",
       "        text-align: right;\n",
       "    }\n",
       "</style>\n",
       "<table border=\"1\" class=\"dataframe\">\n",
       "  <thead>\n",
       "    <tr style=\"text-align: right;\">\n",
       "      <th></th>\n",
       "      <th>Unnamed: 0</th>\n",
       "      <th>date_added</th>\n",
       "      <th>cont</th>\n",
       "      <th>country</th>\n",
       "    </tr>\n",
       "  </thead>\n",
       "  <tbody>\n",
       "    <tr>\n",
       "      <th>0</th>\n",
       "      <td>0</td>\n",
       "      <td>2021</td>\n",
       "      <td>United States and Canada</td>\n",
       "      <td>United States</td>\n",
       "    </tr>\n",
       "    <tr>\n",
       "      <th>1</th>\n",
       "      <td>1</td>\n",
       "      <td>2021</td>\n",
       "      <td>Europe, Middle East, and Africa</td>\n",
       "      <td>South Africa</td>\n",
       "    </tr>\n",
       "    <tr>\n",
       "      <th>2</th>\n",
       "      <td>2</td>\n",
       "      <td>2021</td>\n",
       "      <td>Asia-Pacific</td>\n",
       "      <td>India</td>\n",
       "    </tr>\n",
       "    <tr>\n",
       "      <th>3</th>\n",
       "      <td>3</td>\n",
       "      <td>2021</td>\n",
       "      <td>United States and Canada</td>\n",
       "      <td>United States</td>\n",
       "    </tr>\n",
       "    <tr>\n",
       "      <th>4</th>\n",
       "      <td>4</td>\n",
       "      <td>2021</td>\n",
       "      <td>Europe, Middle East, and Africa</td>\n",
       "      <td>Ghana</td>\n",
       "    </tr>\n",
       "    <tr>\n",
       "      <th>...</th>\n",
       "      <td>...</td>\n",
       "      <td>...</td>\n",
       "      <td>...</td>\n",
       "      <td>...</td>\n",
       "    </tr>\n",
       "    <tr>\n",
       "      <th>9889</th>\n",
       "      <td>9889</td>\n",
       "      <td>2016</td>\n",
       "      <td>Europe, Middle East, and Africa</td>\n",
       "      <td>Jordan</td>\n",
       "    </tr>\n",
       "    <tr>\n",
       "      <th>9890</th>\n",
       "      <td>9890</td>\n",
       "      <td>2019</td>\n",
       "      <td>United States and Canada</td>\n",
       "      <td>United States</td>\n",
       "    </tr>\n",
       "    <tr>\n",
       "      <th>9891</th>\n",
       "      <td>9891</td>\n",
       "      <td>2019</td>\n",
       "      <td>United States and Canada</td>\n",
       "      <td>United States</td>\n",
       "    </tr>\n",
       "    <tr>\n",
       "      <th>9892</th>\n",
       "      <td>9892</td>\n",
       "      <td>2020</td>\n",
       "      <td>United States and Canada</td>\n",
       "      <td>United States</td>\n",
       "    </tr>\n",
       "    <tr>\n",
       "      <th>9893</th>\n",
       "      <td>9893</td>\n",
       "      <td>2019</td>\n",
       "      <td>Asia-Pacific</td>\n",
       "      <td>India</td>\n",
       "    </tr>\n",
       "  </tbody>\n",
       "</table>\n",
       "<p>9894 rows × 4 columns</p>\n",
       "</div>"
      ],
      "text/plain": [
       "      Unnamed: 0  date_added                             cont        country\n",
       "0              0        2021         United States and Canada  United States\n",
       "1              1        2021  Europe, Middle East, and Africa   South Africa\n",
       "2              2        2021                     Asia-Pacific          India\n",
       "3              3        2021         United States and Canada  United States\n",
       "4              4        2021  Europe, Middle East, and Africa          Ghana\n",
       "...          ...         ...                              ...            ...\n",
       "9889        9889        2016  Europe, Middle East, and Africa         Jordan\n",
       "9890        9890        2019         United States and Canada  United States\n",
       "9891        9891        2019         United States and Canada  United States\n",
       "9892        9892        2020         United States and Canada  United States\n",
       "9893        9893        2019                     Asia-Pacific          India\n",
       "\n",
       "[9894 rows x 4 columns]"
      ]
     },
     "execution_count": 77,
     "metadata": {},
     "output_type": "execute_result"
    }
   ],
   "source": [
    "import pandas as pd\n",
    "import matplotlib.pyplot as plt\n",
    "import numpy as np\n",
    "import seaborn as sns\n",
    "\n",
    "# 파일 경로(파이썬 파일과 같은 폴더)를 찾고, 변수 file_path_cont_df에 저장 - 대륙별, 년도별 넷플릭스 데이터\n",
    "file_path_cont_df = './datathon-main/cont_df.csv'\n",
    "\n",
    "# read_csv() 함수로 데이터프레임 변환. 변수 cont_df에 저장\n",
    "cont_df = pd.read_csv(file_path_cont_df)\n",
    "cont_df"
   ]
  },
  {
   "cell_type": "markdown",
   "id": "826fabc8",
   "metadata": {},
   "source": [
    "## (1) 국가(대륙) 단위"
   ]
  },
  {
   "cell_type": "code",
   "execution_count": 12,
   "id": "b2443ba8",
   "metadata": {},
   "outputs": [
    {
     "name": "stdout",
     "output_type": "stream",
     "text": [
      "                              Area  Q1 - 2018  Q2 - 2018  Q3 - 2018  \\\n",
      "0         United States and Canada   60909000   61870000   63010000   \n",
      "1  Europe, Middle East, and Africa   29339000   31317000   33836000   \n",
      "2                    Latin America   21260000   22795000   24115000   \n",
      "3                     Asia-Pacific    7394000    8372000    9461000   \n",
      "\n",
      "   Q4 - 2018  Q1 - 2019  Q2 - 2019  Q3 - 2019  Q4 - 2019  Q1 - 2020  Q2 - 2020  \n",
      "0   64757000   66633000   66501000   67114000   67662000   69969000   72904000  \n",
      "1   37818000   42542000   44229000   47355000   51778000   58734000   61483000  \n",
      "2   26077000   27547000   27890000   29380000   31417000   34318000   36068000  \n",
      "3   10607000   12141000   12942000   14485000   16233000   19835000   22492000  \n",
      "\n",
      "\n",
      "                              Area   Q1 - 2018   Q2 - 2018   Q3 - 2018  \\\n",
      "0         United States and Canada  1976157000  2049546000  2094850000   \n",
      "1  Europe, Middle East, and Africa   886649000   975497000  1004749000   \n",
      "2                    Latin America   540182000   568071000   562307000   \n",
      "3                     Asia-Pacific   199117000   221252000   248691000   \n",
      "\n",
      "    Q4 - 2018   Q1 - 2019   Q2 - 2019   Q3 - 2019   Q4 - 2019   Q1 - 2020  \\\n",
      "0  2160979000  2256851000  2501199000  2621250000  2671908000  2702776000   \n",
      "1  1096812000  1233379000  1319087000  1428040000  1562561000  1723474000   \n",
      "2   567137000   630472000   677136000   741434000   746392000   793453000   \n",
      "3   276756000   319602000   349494000   382304000   418121000   483660000   \n",
      "\n",
      "    Q2 - 2020  \n",
      "0  2839670000  \n",
      "1  1892537000  \n",
      "2   785368000  \n",
      "3   569140000  \n",
      "\n",
      "\n"
     ]
    }
   ],
   "source": [
    "# 파일 경로(파이썬 파일과 같은 폴더)를 찾고, 변수 file_path_continent_subs에 저장 - 2018~2020 대륙별 구독자 수\n",
    "file_path_continent_subs = './datathon-main/NetflixSubscribersbyCountryfrom2018toQ2_2020.csv'\n",
    "\n",
    "# read_csv() 함수로 데이터프레임 변환. 변수 df_continent_subs에 저장\n",
    "df_continent_subs = pd.read_csv(file_path_continent_subs)\n",
    "print(df_continent_subs)\n",
    "print('\\n')\n",
    "\n",
    "# 같은 시기 대륙별로 벌어들인 액수.csv\n",
    "file_path_continent_revenue = './datathon-main/NetflixsRevenue2018toQ2_2020.csv'\n",
    "\n",
    "# read_csv() 함수로 데이터프레임 변환. 변수 dfcontinent_revenue에 저장\n",
    "df_continent_revenue = pd.read_csv(file_path_continent_revenue)\n",
    "print(df_continent_revenue)\n",
    "print('\\n')\n"
   ]
  },
  {
   "cell_type": "markdown",
   "id": "d389a6da",
   "metadata": {},
   "source": [
    "### ① 구독자 수와 수입의 상관관계 분석\n",
    "상관분석을 통해 \n",
    "독립적으로 움직이는 두 변수들 사이의 관계(상관관계)의 강도 도출"
   ]
  },
  {
   "cell_type": "code",
   "execution_count": 46,
   "id": "6e01b540",
   "metadata": {},
   "outputs": [
    {
     "data": {
      "text/html": [
       "<div>\n",
       "<style scoped>\n",
       "    .dataframe tbody tr th:only-of-type {\n",
       "        vertical-align: middle;\n",
       "    }\n",
       "\n",
       "    .dataframe tbody tr th {\n",
       "        vertical-align: top;\n",
       "    }\n",
       "\n",
       "    .dataframe thead th {\n",
       "        text-align: right;\n",
       "    }\n",
       "</style>\n",
       "<table border=\"1\" class=\"dataframe\">\n",
       "  <thead>\n",
       "    <tr style=\"text-align: right;\">\n",
       "      <th></th>\n",
       "      <th>Area</th>\n",
       "      <th>Q1 - 2018_x</th>\n",
       "      <th>Q2 - 2018_x</th>\n",
       "      <th>Q3 - 2018_x</th>\n",
       "      <th>Q4 - 2018_x</th>\n",
       "      <th>Q1 - 2019_x</th>\n",
       "      <th>Q2 - 2019_x</th>\n",
       "      <th>Q3 - 2019_x</th>\n",
       "      <th>Q4 - 2019_x</th>\n",
       "      <th>Q1 - 2020_x</th>\n",
       "      <th>...</th>\n",
       "      <th>Q1 - 2018_y</th>\n",
       "      <th>Q2 - 2018_y</th>\n",
       "      <th>Q3 - 2018_y</th>\n",
       "      <th>Q4 - 2018_y</th>\n",
       "      <th>Q1 - 2019_y</th>\n",
       "      <th>Q2 - 2019_y</th>\n",
       "      <th>Q3 - 2019_y</th>\n",
       "      <th>Q4 - 2019_y</th>\n",
       "      <th>Q1 - 2020_y</th>\n",
       "      <th>Q2 - 2020_y</th>\n",
       "    </tr>\n",
       "  </thead>\n",
       "  <tbody>\n",
       "    <tr>\n",
       "      <th>0</th>\n",
       "      <td>United States and Canada</td>\n",
       "      <td>60909000</td>\n",
       "      <td>61870000</td>\n",
       "      <td>63010000</td>\n",
       "      <td>64757000</td>\n",
       "      <td>66633000</td>\n",
       "      <td>66501000</td>\n",
       "      <td>67114000</td>\n",
       "      <td>67662000</td>\n",
       "      <td>69969000</td>\n",
       "      <td>...</td>\n",
       "      <td>1976157000</td>\n",
       "      <td>2049546000</td>\n",
       "      <td>2094850000</td>\n",
       "      <td>2160979000</td>\n",
       "      <td>2256851000</td>\n",
       "      <td>2501199000</td>\n",
       "      <td>2621250000</td>\n",
       "      <td>2671908000</td>\n",
       "      <td>2702776000</td>\n",
       "      <td>2839670000</td>\n",
       "    </tr>\n",
       "    <tr>\n",
       "      <th>1</th>\n",
       "      <td>Europe, Middle East, and Africa</td>\n",
       "      <td>29339000</td>\n",
       "      <td>31317000</td>\n",
       "      <td>33836000</td>\n",
       "      <td>37818000</td>\n",
       "      <td>42542000</td>\n",
       "      <td>44229000</td>\n",
       "      <td>47355000</td>\n",
       "      <td>51778000</td>\n",
       "      <td>58734000</td>\n",
       "      <td>...</td>\n",
       "      <td>886649000</td>\n",
       "      <td>975497000</td>\n",
       "      <td>1004749000</td>\n",
       "      <td>1096812000</td>\n",
       "      <td>1233379000</td>\n",
       "      <td>1319087000</td>\n",
       "      <td>1428040000</td>\n",
       "      <td>1562561000</td>\n",
       "      <td>1723474000</td>\n",
       "      <td>1892537000</td>\n",
       "    </tr>\n",
       "    <tr>\n",
       "      <th>2</th>\n",
       "      <td>Latin America</td>\n",
       "      <td>21260000</td>\n",
       "      <td>22795000</td>\n",
       "      <td>24115000</td>\n",
       "      <td>26077000</td>\n",
       "      <td>27547000</td>\n",
       "      <td>27890000</td>\n",
       "      <td>29380000</td>\n",
       "      <td>31417000</td>\n",
       "      <td>34318000</td>\n",
       "      <td>...</td>\n",
       "      <td>540182000</td>\n",
       "      <td>568071000</td>\n",
       "      <td>562307000</td>\n",
       "      <td>567137000</td>\n",
       "      <td>630472000</td>\n",
       "      <td>677136000</td>\n",
       "      <td>741434000</td>\n",
       "      <td>746392000</td>\n",
       "      <td>793453000</td>\n",
       "      <td>785368000</td>\n",
       "    </tr>\n",
       "    <tr>\n",
       "      <th>3</th>\n",
       "      <td>Asia-Pacific</td>\n",
       "      <td>7394000</td>\n",
       "      <td>8372000</td>\n",
       "      <td>9461000</td>\n",
       "      <td>10607000</td>\n",
       "      <td>12141000</td>\n",
       "      <td>12942000</td>\n",
       "      <td>14485000</td>\n",
       "      <td>16233000</td>\n",
       "      <td>19835000</td>\n",
       "      <td>...</td>\n",
       "      <td>199117000</td>\n",
       "      <td>221252000</td>\n",
       "      <td>248691000</td>\n",
       "      <td>276756000</td>\n",
       "      <td>319602000</td>\n",
       "      <td>349494000</td>\n",
       "      <td>382304000</td>\n",
       "      <td>418121000</td>\n",
       "      <td>483660000</td>\n",
       "      <td>569140000</td>\n",
       "    </tr>\n",
       "  </tbody>\n",
       "</table>\n",
       "<p>4 rows × 21 columns</p>\n",
       "</div>"
      ],
      "text/plain": [
       "                              Area  Q1 - 2018_x  Q2 - 2018_x  Q3 - 2018_x  \\\n",
       "0         United States and Canada     60909000     61870000     63010000   \n",
       "1  Europe, Middle East, and Africa     29339000     31317000     33836000   \n",
       "2                    Latin America     21260000     22795000     24115000   \n",
       "3                     Asia-Pacific      7394000      8372000      9461000   \n",
       "\n",
       "   Q4 - 2018_x  Q1 - 2019_x  Q2 - 2019_x  Q3 - 2019_x  Q4 - 2019_x  \\\n",
       "0     64757000     66633000     66501000     67114000     67662000   \n",
       "1     37818000     42542000     44229000     47355000     51778000   \n",
       "2     26077000     27547000     27890000     29380000     31417000   \n",
       "3     10607000     12141000     12942000     14485000     16233000   \n",
       "\n",
       "   Q1 - 2020_x  ...  Q1 - 2018_y  Q2 - 2018_y  Q3 - 2018_y  Q4 - 2018_y  \\\n",
       "0     69969000  ...   1976157000   2049546000   2094850000   2160979000   \n",
       "1     58734000  ...    886649000    975497000   1004749000   1096812000   \n",
       "2     34318000  ...    540182000    568071000    562307000    567137000   \n",
       "3     19835000  ...    199117000    221252000    248691000    276756000   \n",
       "\n",
       "   Q1 - 2019_y  Q2 - 2019_y  Q3 - 2019_y  Q4 - 2019_y  Q1 - 2020_y  \\\n",
       "0   2256851000   2501199000   2621250000   2671908000   2702776000   \n",
       "1   1233379000   1319087000   1428040000   1562561000   1723474000   \n",
       "2    630472000    677136000    741434000    746392000    793453000   \n",
       "3    319602000    349494000    382304000    418121000    483660000   \n",
       "\n",
       "   Q2 - 2020_y  \n",
       "0   2839670000  \n",
       "1   1892537000  \n",
       "2    785368000  \n",
       "3    569140000  \n",
       "\n",
       "[4 rows x 21 columns]"
      ]
     },
     "execution_count": 46,
     "metadata": {},
     "output_type": "execute_result"
    }
   ],
   "source": [
    "# 두 데이터프레임 병합\n",
    "\n",
    "# 데이터프레임 합치기 - 교집합. Area열을 기준으로 합치기\n",
    "df_merge_by_area = pd.merge(df_continent_subs, df_continent_revenue, how='inner', on='Area')\n",
    "df_merge_by_area"
   ]
  },
  {
   "cell_type": "code",
   "execution_count": 34,
   "id": "5f560a11",
   "metadata": {},
   "outputs": [
    {
     "name": "stdout",
     "output_type": "stream",
     "text": [
      "             Q1 - 2018_x  Q1 - 2018_y\n",
      "Q1 - 2018_x     1.000000     0.997518\n",
      "Q1 - 2018_y     0.997518     1.000000\n"
     ]
    }
   ],
   "source": [
    "# 강도는 상관계수로 나타내어 표시\n",
    "# 상관계수 r = x와 y가 함께 변하는 정도 / x와 y가 각각 변하는 정도\n",
    "print(df_merge_by_area[['Q1 - 2018_x','Q1 - 2018_y']].corr())"
   ]
  },
  {
   "cell_type": "code",
   "execution_count": 35,
   "id": "430505ab",
   "metadata": {},
   "outputs": [
    {
     "name": "stdout",
     "output_type": "stream",
     "text": [
      "             Q2 - 2018_x  Q2 - 2018_y\n",
      "Q2 - 2018_x     1.000000     0.996404\n",
      "Q2 - 2018_y     0.996404     1.000000\n"
     ]
    }
   ],
   "source": [
    "print(df_merge_by_area[['Q2 - 2018_x','Q2 - 2018_y']].corr())"
   ]
  },
  {
   "cell_type": "code",
   "execution_count": 36,
   "id": "4ee0aef6",
   "metadata": {},
   "outputs": [
    {
     "name": "stdout",
     "output_type": "stream",
     "text": [
      "             Q3 - 2018_x  Q3 - 2018_y\n",
      "Q3 - 2018_x     1.000000     0.994023\n",
      "Q3 - 2018_y     0.994023     1.000000\n"
     ]
    }
   ],
   "source": [
    "print(df_merge_by_area[['Q3 - 2018_x','Q3 - 2018_y']].corr())"
   ]
  },
  {
   "cell_type": "code",
   "execution_count": 37,
   "id": "edc11b8d",
   "metadata": {},
   "outputs": [
    {
     "name": "stdout",
     "output_type": "stream",
     "text": [
      "             Q4 - 2018_x  Q4 - 2018_y\n",
      "Q4 - 2018_x     1.000000     0.990169\n",
      "Q4 - 2018_y     0.990169     1.000000\n"
     ]
    }
   ],
   "source": [
    "print(df_merge_by_area[['Q4 - 2018_x','Q4 - 2018_y']].corr())"
   ]
  },
  {
   "cell_type": "code",
   "execution_count": 38,
   "id": "547fb8bb",
   "metadata": {},
   "outputs": [
    {
     "name": "stdout",
     "output_type": "stream",
     "text": [
      "             Q1 - 2019_x  Q1 - 2019_y\n",
      "Q1 - 2019_x     1.000000     0.990344\n",
      "Q1 - 2019_y     0.990344     1.000000\n"
     ]
    }
   ],
   "source": [
    "print(df_merge_by_area[['Q1 - 2019_x','Q1 - 2019_y']].corr())"
   ]
  },
  {
   "cell_type": "code",
   "execution_count": 39,
   "id": "7ae4611c",
   "metadata": {},
   "outputs": [
    {
     "name": "stdout",
     "output_type": "stream",
     "text": [
      "             Q2 - 2019_x  Q2 - 2019_y\n",
      "Q2 - 2019_x      1.00000      0.98546\n",
      "Q2 - 2019_y      0.98546      1.00000\n"
     ]
    }
   ],
   "source": [
    "print(df_merge_by_area[['Q2 - 2019_x','Q2 - 2019_y']].corr())"
   ]
  },
  {
   "cell_type": "code",
   "execution_count": 40,
   "id": "f919c027",
   "metadata": {},
   "outputs": [
    {
     "name": "stdout",
     "output_type": "stream",
     "text": [
      "             Q3 - 2019_x  Q3 - 2019_y\n",
      "Q3 - 2019_x     1.000000     0.982464\n",
      "Q3 - 2019_y     0.982464     1.000000\n"
     ]
    }
   ],
   "source": [
    "print(df_merge_by_area[['Q3 - 2019_x','Q3 - 2019_y']].corr())"
   ]
  },
  {
   "cell_type": "code",
   "execution_count": 41,
   "id": "b8048056",
   "metadata": {},
   "outputs": [
    {
     "name": "stdout",
     "output_type": "stream",
     "text": [
      "             Q4 - 2019_x  Q4 - 2019_y\n",
      "Q4 - 2019_x     1.000000     0.976012\n",
      "Q4 - 2019_y     0.976012     1.000000\n"
     ]
    }
   ],
   "source": [
    "print(df_merge_by_area[['Q4 - 2019_x','Q4 - 2019_y']].corr())"
   ]
  },
  {
   "cell_type": "code",
   "execution_count": 42,
   "id": "9365e1cf",
   "metadata": {},
   "outputs": [
    {
     "name": "stdout",
     "output_type": "stream",
     "text": [
      "             Q1 - 2020_x  Q1 - 2020_y\n",
      "Q1 - 2020_x     1.000000     0.970857\n",
      "Q1 - 2020_y     0.970857     1.000000\n"
     ]
    }
   ],
   "source": [
    "print(df_merge_by_area[['Q1 - 2020_x','Q1 - 2020_y']].corr())"
   ]
  },
  {
   "cell_type": "code",
   "execution_count": 43,
   "id": "a8765cf6",
   "metadata": {},
   "outputs": [
    {
     "name": "stdout",
     "output_type": "stream",
     "text": [
      "             Q2 - 2020_x  Q2 - 2020_y\n",
      "Q2 - 2020_x     1.000000     0.973854\n",
      "Q2 - 2020_y     0.973854     1.000000\n"
     ]
    }
   ],
   "source": [
    "print(df_merge_by_area[['Q2 - 2020_x','Q2 - 2020_y']].corr())"
   ]
  },
  {
   "cell_type": "markdown",
   "id": "0baecdda",
   "metadata": {},
   "source": [
    "r값이 0.7~ 1.0 \n",
    "=> 같은 시기별의 두 변수(구독자수, 수입액수)는 강한 양의 상관관계를 가지고 있음"
   ]
  },
  {
   "cell_type": "markdown",
   "id": "34f1efd1",
   "metadata": {},
   "source": [
    "### ② 시각화"
   ]
  },
  {
   "cell_type": "code",
   "execution_count": 59,
   "id": "cbb142d7",
   "metadata": {},
   "outputs": [
    {
     "data": {
      "text/html": [
       "<div>\n",
       "<style scoped>\n",
       "    .dataframe tbody tr th:only-of-type {\n",
       "        vertical-align: middle;\n",
       "    }\n",
       "\n",
       "    .dataframe tbody tr th {\n",
       "        vertical-align: top;\n",
       "    }\n",
       "\n",
       "    .dataframe thead th {\n",
       "        text-align: right;\n",
       "    }\n",
       "</style>\n",
       "<table border=\"1\" class=\"dataframe\">\n",
       "  <thead>\n",
       "    <tr style=\"text-align: right;\">\n",
       "      <th></th>\n",
       "      <th>Area</th>\n",
       "      <th>Q1 - 2018</th>\n",
       "      <th>Q2 - 2018</th>\n",
       "      <th>Q3 - 2018</th>\n",
       "      <th>Q4 - 2018</th>\n",
       "      <th>Q1 - 2019</th>\n",
       "      <th>Q2 - 2019</th>\n",
       "      <th>Q3 - 2019</th>\n",
       "      <th>Q4 - 2019</th>\n",
       "      <th>Q1 - 2020</th>\n",
       "      <th>Q2 - 2020</th>\n",
       "    </tr>\n",
       "  </thead>\n",
       "  <tbody>\n",
       "    <tr>\n",
       "      <th>0</th>\n",
       "      <td>United States and Canada</td>\n",
       "      <td>60909000</td>\n",
       "      <td>61870000</td>\n",
       "      <td>63010000</td>\n",
       "      <td>64757000</td>\n",
       "      <td>66633000</td>\n",
       "      <td>66501000</td>\n",
       "      <td>67114000</td>\n",
       "      <td>67662000</td>\n",
       "      <td>69969000</td>\n",
       "      <td>72904000</td>\n",
       "    </tr>\n",
       "    <tr>\n",
       "      <th>1</th>\n",
       "      <td>Europe, Middle East, and Africa</td>\n",
       "      <td>29339000</td>\n",
       "      <td>31317000</td>\n",
       "      <td>33836000</td>\n",
       "      <td>37818000</td>\n",
       "      <td>42542000</td>\n",
       "      <td>44229000</td>\n",
       "      <td>47355000</td>\n",
       "      <td>51778000</td>\n",
       "      <td>58734000</td>\n",
       "      <td>61483000</td>\n",
       "    </tr>\n",
       "    <tr>\n",
       "      <th>2</th>\n",
       "      <td>Latin America</td>\n",
       "      <td>21260000</td>\n",
       "      <td>22795000</td>\n",
       "      <td>24115000</td>\n",
       "      <td>26077000</td>\n",
       "      <td>27547000</td>\n",
       "      <td>27890000</td>\n",
       "      <td>29380000</td>\n",
       "      <td>31417000</td>\n",
       "      <td>34318000</td>\n",
       "      <td>36068000</td>\n",
       "    </tr>\n",
       "    <tr>\n",
       "      <th>3</th>\n",
       "      <td>Asia-Pacific</td>\n",
       "      <td>7394000</td>\n",
       "      <td>8372000</td>\n",
       "      <td>9461000</td>\n",
       "      <td>10607000</td>\n",
       "      <td>12141000</td>\n",
       "      <td>12942000</td>\n",
       "      <td>14485000</td>\n",
       "      <td>16233000</td>\n",
       "      <td>19835000</td>\n",
       "      <td>22492000</td>\n",
       "    </tr>\n",
       "  </tbody>\n",
       "</table>\n",
       "</div>"
      ],
      "text/plain": [
       "                              Area  Q1 - 2018  Q2 - 2018  Q3 - 2018  \\\n",
       "0         United States and Canada   60909000   61870000   63010000   \n",
       "1  Europe, Middle East, and Africa   29339000   31317000   33836000   \n",
       "2                    Latin America   21260000   22795000   24115000   \n",
       "3                     Asia-Pacific    7394000    8372000    9461000   \n",
       "\n",
       "   Q4 - 2018  Q1 - 2019  Q2 - 2019  Q3 - 2019  Q4 - 2019  Q1 - 2020  Q2 - 2020  \n",
       "0   64757000   66633000   66501000   67114000   67662000   69969000   72904000  \n",
       "1   37818000   42542000   44229000   47355000   51778000   58734000   61483000  \n",
       "2   26077000   27547000   27890000   29380000   31417000   34318000   36068000  \n",
       "3   10607000   12141000   12942000   14485000   16233000   19835000   22492000  "
      ]
     },
     "execution_count": 59,
     "metadata": {},
     "output_type": "execute_result"
    }
   ],
   "source": [
    "df_continent_subs"
   ]
  },
  {
   "cell_type": "code",
   "execution_count": 100,
   "id": "c09bf4a2",
   "metadata": {},
   "outputs": [],
   "source": [
    "subscribers_USC = [60909000, 61870000, 63010000, 64757000, 66633000, 66501000, 67114000, 67662000, 69969000, 72904000]\n",
    "subscribers_Eur_ME_Af = [29339000, 31317000, 33836000, 37818000, 42542000, 44229000, 47355000, 51778000, 58734000, 61483000]\n",
    "subscribers_LA = [21260000, 22795000, 24115000, 26077000, 27547000, 27890000, 29380000, 31417000, 34318000, 36068000]\n",
    "subscribers_AP = [7394000, 8372000, 9461000, 10607000, 12141000, 12942000, 14485000, 16233000, 19835000, 22492000]"
   ]
  },
  {
   "cell_type": "code",
   "execution_count": 102,
   "id": "c6eadb66",
   "metadata": {},
   "outputs": [
    {
     "ename": "ValueError",
     "evalue": "Length of list vectors must match length of `data` when both are used, but `data` has length 4 and the vector passed to `y` has length 10.",
     "output_type": "error",
     "traceback": [
      "\u001b[0;31m---------------------------------------------------------------------------\u001b[0m",
      "\u001b[0;31mValueError\u001b[0m                                Traceback (most recent call last)",
      "\u001b[0;32m/var/folders/ml/98dd7z0d4l11ky5301jqt9d00000gn/T/ipykernel_4863/74467457.py\u001b[0m in \u001b[0;36m<module>\u001b[0;34m\u001b[0m\n\u001b[1;32m      2\u001b[0m \u001b[0mplt\u001b[0m\u001b[0;34m.\u001b[0m\u001b[0mfigure\u001b[0m\u001b[0;34m(\u001b[0m\u001b[0mfigsize\u001b[0m \u001b[0;34m=\u001b[0m \u001b[0;34m(\u001b[0m\u001b[0;36m16\u001b[0m\u001b[0;34m,\u001b[0m \u001b[0;36m10\u001b[0m\u001b[0;34m)\u001b[0m\u001b[0;34m)\u001b[0m\u001b[0;34m\u001b[0m\u001b[0;34m\u001b[0m\u001b[0m\n\u001b[1;32m      3\u001b[0m \u001b[0;34m\u001b[0m\u001b[0m\n\u001b[0;32m----> 4\u001b[0;31m \u001b[0max\u001b[0m \u001b[0;34m=\u001b[0m \u001b[0msns\u001b[0m\u001b[0;34m.\u001b[0m\u001b[0mlineplot\u001b[0m\u001b[0;34m(\u001b[0m\u001b[0mdata\u001b[0m\u001b[0;34m=\u001b[0m\u001b[0mdf_continent_subs\u001b[0m\u001b[0;34m,\u001b[0m \u001b[0mx\u001b[0m\u001b[0;34m=\u001b[0m\u001b[0mdf_continent_subs\u001b[0m\u001b[0;34m.\u001b[0m\u001b[0mindex\u001b[0m\u001b[0;34m,\u001b[0m \u001b[0my\u001b[0m\u001b[0;34m=\u001b[0m\u001b[0msubscribers_USC\u001b[0m\u001b[0;34m)\u001b[0m\u001b[0;34m\u001b[0m\u001b[0;34m\u001b[0m\u001b[0m\n\u001b[0m\u001b[1;32m      5\u001b[0m \u001b[0;34m\u001b[0m\u001b[0m\n\u001b[1;32m      6\u001b[0m \u001b[0mplt\u001b[0m\u001b[0;34m.\u001b[0m\u001b[0mlegend\u001b[0m\u001b[0;34m(\u001b[0m\u001b[0;34m)\u001b[0m\u001b[0;34m\u001b[0m\u001b[0;34m\u001b[0m\u001b[0m\n",
      "\u001b[0;32m~/opt/anaconda3/lib/python3.9/site-packages/seaborn/_decorators.py\u001b[0m in \u001b[0;36minner_f\u001b[0;34m(*args, **kwargs)\u001b[0m\n\u001b[1;32m     44\u001b[0m             )\n\u001b[1;32m     45\u001b[0m         \u001b[0mkwargs\u001b[0m\u001b[0;34m.\u001b[0m\u001b[0mupdate\u001b[0m\u001b[0;34m(\u001b[0m\u001b[0;34m{\u001b[0m\u001b[0mk\u001b[0m\u001b[0;34m:\u001b[0m \u001b[0marg\u001b[0m \u001b[0;32mfor\u001b[0m \u001b[0mk\u001b[0m\u001b[0;34m,\u001b[0m \u001b[0marg\u001b[0m \u001b[0;32min\u001b[0m \u001b[0mzip\u001b[0m\u001b[0;34m(\u001b[0m\u001b[0msig\u001b[0m\u001b[0;34m.\u001b[0m\u001b[0mparameters\u001b[0m\u001b[0;34m,\u001b[0m \u001b[0margs\u001b[0m\u001b[0;34m)\u001b[0m\u001b[0;34m}\u001b[0m\u001b[0;34m)\u001b[0m\u001b[0;34m\u001b[0m\u001b[0;34m\u001b[0m\u001b[0m\n\u001b[0;32m---> 46\u001b[0;31m         \u001b[0;32mreturn\u001b[0m \u001b[0mf\u001b[0m\u001b[0;34m(\u001b[0m\u001b[0;34m**\u001b[0m\u001b[0mkwargs\u001b[0m\u001b[0;34m)\u001b[0m\u001b[0;34m\u001b[0m\u001b[0;34m\u001b[0m\u001b[0m\n\u001b[0m\u001b[1;32m     47\u001b[0m     \u001b[0;32mreturn\u001b[0m \u001b[0minner_f\u001b[0m\u001b[0;34m\u001b[0m\u001b[0;34m\u001b[0m\u001b[0m\n\u001b[1;32m     48\u001b[0m \u001b[0;34m\u001b[0m\u001b[0m\n",
      "\u001b[0;32m~/opt/anaconda3/lib/python3.9/site-packages/seaborn/relational.py\u001b[0m in \u001b[0;36mlineplot\u001b[0;34m(x, y, hue, size, style, data, palette, hue_order, hue_norm, sizes, size_order, size_norm, dashes, markers, style_order, units, estimator, ci, n_boot, seed, sort, err_style, err_kws, legend, ax, **kwargs)\u001b[0m\n\u001b[1;32m    690\u001b[0m \u001b[0;34m\u001b[0m\u001b[0m\n\u001b[1;32m    691\u001b[0m     \u001b[0mvariables\u001b[0m \u001b[0;34m=\u001b[0m \u001b[0m_LinePlotter\u001b[0m\u001b[0;34m.\u001b[0m\u001b[0mget_semantics\u001b[0m\u001b[0;34m(\u001b[0m\u001b[0mlocals\u001b[0m\u001b[0;34m(\u001b[0m\u001b[0;34m)\u001b[0m\u001b[0;34m)\u001b[0m\u001b[0;34m\u001b[0m\u001b[0;34m\u001b[0m\u001b[0m\n\u001b[0;32m--> 692\u001b[0;31m     p = _LinePlotter(\n\u001b[0m\u001b[1;32m    693\u001b[0m         \u001b[0mdata\u001b[0m\u001b[0;34m=\u001b[0m\u001b[0mdata\u001b[0m\u001b[0;34m,\u001b[0m \u001b[0mvariables\u001b[0m\u001b[0;34m=\u001b[0m\u001b[0mvariables\u001b[0m\u001b[0;34m,\u001b[0m\u001b[0;34m\u001b[0m\u001b[0;34m\u001b[0m\u001b[0m\n\u001b[1;32m    694\u001b[0m         \u001b[0mestimator\u001b[0m\u001b[0;34m=\u001b[0m\u001b[0mestimator\u001b[0m\u001b[0;34m,\u001b[0m \u001b[0mci\u001b[0m\u001b[0;34m=\u001b[0m\u001b[0mci\u001b[0m\u001b[0;34m,\u001b[0m \u001b[0mn_boot\u001b[0m\u001b[0;34m=\u001b[0m\u001b[0mn_boot\u001b[0m\u001b[0;34m,\u001b[0m \u001b[0mseed\u001b[0m\u001b[0;34m=\u001b[0m\u001b[0mseed\u001b[0m\u001b[0;34m,\u001b[0m\u001b[0;34m\u001b[0m\u001b[0;34m\u001b[0m\u001b[0m\n",
      "\u001b[0;32m~/opt/anaconda3/lib/python3.9/site-packages/seaborn/relational.py\u001b[0m in \u001b[0;36m__init__\u001b[0;34m(self, data, variables, estimator, ci, n_boot, seed, sort, err_style, err_kws, legend)\u001b[0m\n\u001b[1;32m    365\u001b[0m         )\n\u001b[1;32m    366\u001b[0m \u001b[0;34m\u001b[0m\u001b[0m\n\u001b[0;32m--> 367\u001b[0;31m         \u001b[0msuper\u001b[0m\u001b[0;34m(\u001b[0m\u001b[0;34m)\u001b[0m\u001b[0;34m.\u001b[0m\u001b[0m__init__\u001b[0m\u001b[0;34m(\u001b[0m\u001b[0mdata\u001b[0m\u001b[0;34m=\u001b[0m\u001b[0mdata\u001b[0m\u001b[0;34m,\u001b[0m \u001b[0mvariables\u001b[0m\u001b[0;34m=\u001b[0m\u001b[0mvariables\u001b[0m\u001b[0;34m)\u001b[0m\u001b[0;34m\u001b[0m\u001b[0;34m\u001b[0m\u001b[0m\n\u001b[0m\u001b[1;32m    368\u001b[0m \u001b[0;34m\u001b[0m\u001b[0m\n\u001b[1;32m    369\u001b[0m         \u001b[0mself\u001b[0m\u001b[0;34m.\u001b[0m\u001b[0mestimator\u001b[0m \u001b[0;34m=\u001b[0m \u001b[0mestimator\u001b[0m\u001b[0;34m\u001b[0m\u001b[0;34m\u001b[0m\u001b[0m\n",
      "\u001b[0;32m~/opt/anaconda3/lib/python3.9/site-packages/seaborn/_core.py\u001b[0m in \u001b[0;36m__init__\u001b[0;34m(self, data, variables)\u001b[0m\n\u001b[1;32m    603\u001b[0m     \u001b[0;32mdef\u001b[0m \u001b[0m__init__\u001b[0m\u001b[0;34m(\u001b[0m\u001b[0mself\u001b[0m\u001b[0;34m,\u001b[0m \u001b[0mdata\u001b[0m\u001b[0;34m=\u001b[0m\u001b[0;32mNone\u001b[0m\u001b[0;34m,\u001b[0m \u001b[0mvariables\u001b[0m\u001b[0;34m=\u001b[0m\u001b[0;34m{\u001b[0m\u001b[0;34m}\u001b[0m\u001b[0;34m)\u001b[0m\u001b[0;34m:\u001b[0m\u001b[0;34m\u001b[0m\u001b[0;34m\u001b[0m\u001b[0m\n\u001b[1;32m    604\u001b[0m \u001b[0;34m\u001b[0m\u001b[0m\n\u001b[0;32m--> 605\u001b[0;31m         \u001b[0mself\u001b[0m\u001b[0;34m.\u001b[0m\u001b[0massign_variables\u001b[0m\u001b[0;34m(\u001b[0m\u001b[0mdata\u001b[0m\u001b[0;34m,\u001b[0m \u001b[0mvariables\u001b[0m\u001b[0;34m)\u001b[0m\u001b[0;34m\u001b[0m\u001b[0;34m\u001b[0m\u001b[0m\n\u001b[0m\u001b[1;32m    606\u001b[0m \u001b[0;34m\u001b[0m\u001b[0m\n\u001b[1;32m    607\u001b[0m         \u001b[0;32mfor\u001b[0m \u001b[0mvar\u001b[0m\u001b[0;34m,\u001b[0m \u001b[0mcls\u001b[0m \u001b[0;32min\u001b[0m \u001b[0mself\u001b[0m\u001b[0;34m.\u001b[0m\u001b[0m_semantic_mappings\u001b[0m\u001b[0;34m.\u001b[0m\u001b[0mitems\u001b[0m\u001b[0;34m(\u001b[0m\u001b[0;34m)\u001b[0m\u001b[0;34m:\u001b[0m\u001b[0;34m\u001b[0m\u001b[0;34m\u001b[0m\u001b[0m\n",
      "\u001b[0;32m~/opt/anaconda3/lib/python3.9/site-packages/seaborn/_core.py\u001b[0m in \u001b[0;36massign_variables\u001b[0;34m(self, data, variables)\u001b[0m\n\u001b[1;32m    666\u001b[0m         \u001b[0;32melse\u001b[0m\u001b[0;34m:\u001b[0m\u001b[0;34m\u001b[0m\u001b[0;34m\u001b[0m\u001b[0m\n\u001b[1;32m    667\u001b[0m             \u001b[0mself\u001b[0m\u001b[0;34m.\u001b[0m\u001b[0minput_format\u001b[0m \u001b[0;34m=\u001b[0m \u001b[0;34m\"long\"\u001b[0m\u001b[0;34m\u001b[0m\u001b[0;34m\u001b[0m\u001b[0m\n\u001b[0;32m--> 668\u001b[0;31m             plot_data, variables = self._assign_variables_longform(\n\u001b[0m\u001b[1;32m    669\u001b[0m                 \u001b[0mdata\u001b[0m\u001b[0;34m,\u001b[0m \u001b[0;34m**\u001b[0m\u001b[0mvariables\u001b[0m\u001b[0;34m,\u001b[0m\u001b[0;34m\u001b[0m\u001b[0;34m\u001b[0m\u001b[0m\n\u001b[1;32m    670\u001b[0m             )\n",
      "\u001b[0;32m~/opt/anaconda3/lib/python3.9/site-packages/seaborn/_core.py\u001b[0m in \u001b[0;36m_assign_variables_longform\u001b[0;34m(self, data, **kwargs)\u001b[0m\n\u001b[1;32m    916\u001b[0m                             \u001b[0;34mf\" and the vector passed to `{key}` has length {len(val)}.\"\u001b[0m\u001b[0;34m\u001b[0m\u001b[0;34m\u001b[0m\u001b[0m\n\u001b[1;32m    917\u001b[0m                         )\n\u001b[0;32m--> 918\u001b[0;31m                         \u001b[0;32mraise\u001b[0m \u001b[0mValueError\u001b[0m\u001b[0;34m(\u001b[0m\u001b[0merr\u001b[0m\u001b[0;34m)\u001b[0m\u001b[0;34m\u001b[0m\u001b[0;34m\u001b[0m\u001b[0m\n\u001b[0m\u001b[1;32m    919\u001b[0m \u001b[0;34m\u001b[0m\u001b[0m\n\u001b[1;32m    920\u001b[0m                 \u001b[0mplot_data\u001b[0m\u001b[0;34m[\u001b[0m\u001b[0mkey\u001b[0m\u001b[0;34m]\u001b[0m \u001b[0;34m=\u001b[0m \u001b[0mval\u001b[0m\u001b[0;34m\u001b[0m\u001b[0;34m\u001b[0m\u001b[0m\n",
      "\u001b[0;31mValueError\u001b[0m: Length of list vectors must match length of `data` when both are used, but `data` has length 4 and the vector passed to `y` has length 10."
     ]
    },
    {
     "data": {
      "text/plain": [
       "<Figure size 1152x720 with 0 Axes>"
      ]
     },
     "metadata": {},
     "output_type": "display_data"
    }
   ],
   "source": [
    "# 시간의 흐름에 따른 대륙(국가)별 구독자 수 변화\n",
    "plt.figure(figsize = (16, 10))\n",
    "\n",
    "ax = sns.lineplot(data=df_continent_subs, x=df_continent_subs.index, y=subscribers_USC.value)\n",
    "             \n",
    "plt.legend()\n",
    "plt.xlabel(\"time\")\n",
    "plt.ylabel(\"subscribers\")\n",
    "plt.show()"
   ]
  },
  {
   "cell_type": "code",
   "execution_count": 60,
   "id": "69a44e2c",
   "metadata": {},
   "outputs": [
    {
     "data": {
      "text/html": [
       "<div>\n",
       "<style scoped>\n",
       "    .dataframe tbody tr th:only-of-type {\n",
       "        vertical-align: middle;\n",
       "    }\n",
       "\n",
       "    .dataframe tbody tr th {\n",
       "        vertical-align: top;\n",
       "    }\n",
       "\n",
       "    .dataframe thead th {\n",
       "        text-align: right;\n",
       "    }\n",
       "</style>\n",
       "<table border=\"1\" class=\"dataframe\">\n",
       "  <thead>\n",
       "    <tr style=\"text-align: right;\">\n",
       "      <th></th>\n",
       "      <th>Area</th>\n",
       "      <th>Q1 - 2018</th>\n",
       "      <th>Q2 - 2018</th>\n",
       "      <th>Q3 - 2018</th>\n",
       "      <th>Q4 - 2018</th>\n",
       "      <th>Q1 - 2019</th>\n",
       "      <th>Q2 - 2019</th>\n",
       "      <th>Q3 - 2019</th>\n",
       "      <th>Q4 - 2019</th>\n",
       "      <th>Q1 - 2020</th>\n",
       "      <th>Q2 - 2020</th>\n",
       "    </tr>\n",
       "  </thead>\n",
       "  <tbody>\n",
       "    <tr>\n",
       "      <th>0</th>\n",
       "      <td>United States and Canada</td>\n",
       "      <td>1976157000</td>\n",
       "      <td>2049546000</td>\n",
       "      <td>2094850000</td>\n",
       "      <td>2160979000</td>\n",
       "      <td>2256851000</td>\n",
       "      <td>2501199000</td>\n",
       "      <td>2621250000</td>\n",
       "      <td>2671908000</td>\n",
       "      <td>2702776000</td>\n",
       "      <td>2839670000</td>\n",
       "    </tr>\n",
       "    <tr>\n",
       "      <th>1</th>\n",
       "      <td>Europe, Middle East, and Africa</td>\n",
       "      <td>886649000</td>\n",
       "      <td>975497000</td>\n",
       "      <td>1004749000</td>\n",
       "      <td>1096812000</td>\n",
       "      <td>1233379000</td>\n",
       "      <td>1319087000</td>\n",
       "      <td>1428040000</td>\n",
       "      <td>1562561000</td>\n",
       "      <td>1723474000</td>\n",
       "      <td>1892537000</td>\n",
       "    </tr>\n",
       "    <tr>\n",
       "      <th>2</th>\n",
       "      <td>Latin America</td>\n",
       "      <td>540182000</td>\n",
       "      <td>568071000</td>\n",
       "      <td>562307000</td>\n",
       "      <td>567137000</td>\n",
       "      <td>630472000</td>\n",
       "      <td>677136000</td>\n",
       "      <td>741434000</td>\n",
       "      <td>746392000</td>\n",
       "      <td>793453000</td>\n",
       "      <td>785368000</td>\n",
       "    </tr>\n",
       "    <tr>\n",
       "      <th>3</th>\n",
       "      <td>Asia-Pacific</td>\n",
       "      <td>199117000</td>\n",
       "      <td>221252000</td>\n",
       "      <td>248691000</td>\n",
       "      <td>276756000</td>\n",
       "      <td>319602000</td>\n",
       "      <td>349494000</td>\n",
       "      <td>382304000</td>\n",
       "      <td>418121000</td>\n",
       "      <td>483660000</td>\n",
       "      <td>569140000</td>\n",
       "    </tr>\n",
       "  </tbody>\n",
       "</table>\n",
       "</div>"
      ],
      "text/plain": [
       "                              Area   Q1 - 2018   Q2 - 2018   Q3 - 2018  \\\n",
       "0         United States and Canada  1976157000  2049546000  2094850000   \n",
       "1  Europe, Middle East, and Africa   886649000   975497000  1004749000   \n",
       "2                    Latin America   540182000   568071000   562307000   \n",
       "3                     Asia-Pacific   199117000   221252000   248691000   \n",
       "\n",
       "    Q4 - 2018   Q1 - 2019   Q2 - 2019   Q3 - 2019   Q4 - 2019   Q1 - 2020  \\\n",
       "0  2160979000  2256851000  2501199000  2621250000  2671908000  2702776000   \n",
       "1  1096812000  1233379000  1319087000  1428040000  1562561000  1723474000   \n",
       "2   567137000   630472000   677136000   741434000   746392000   793453000   \n",
       "3   276756000   319602000   349494000   382304000   418121000   483660000   \n",
       "\n",
       "    Q2 - 2020  \n",
       "0  2839670000  \n",
       "1  1892537000  \n",
       "2   785368000  \n",
       "3   569140000  "
      ]
     },
     "execution_count": 60,
     "metadata": {},
     "output_type": "execute_result"
    }
   ],
   "source": [
    "df_continent_revenue"
   ]
  },
  {
   "cell_type": "code",
   "execution_count": null,
   "id": "1dceb93e",
   "metadata": {},
   "outputs": [],
   "source": [
    "# 시간의 흐름에 따른 대륙(국가)별 수익 변화"
   ]
  },
  {
   "cell_type": "code",
   "execution_count": 58,
   "id": "5f54f703",
   "metadata": {},
   "outputs": [
    {
     "ename": "SyntaxError",
     "evalue": "cannot assign to function call (1635025254.py, line 4)",
     "output_type": "error",
     "traceback": [
      "\u001b[0;36m  File \u001b[0;32m\"/var/folders/ml/98dd7z0d4l11ky5301jqt9d00000gn/T/ipykernel_4863/1635025254.py\"\u001b[0;36m, line \u001b[0;32m4\u001b[0m\n\u001b[0;31m    plt.plot(sr_one) = df_merge_by_area.loc['Area']\u001b[0m\n\u001b[0m    ^\u001b[0m\n\u001b[0;31mSyntaxError\u001b[0m\u001b[0;31m:\u001b[0m cannot assign to function call\n"
     ]
    }
   ],
   "source": []
  },
  {
   "cell_type": "markdown",
   "id": "3d65a4d8",
   "metadata": {},
   "source": [
    "### ③ 구독자 수와 수입 사이에 인과관계가 있는지(인과관계의 방향, 정도)를 확인 위한 회귀분석\n",
    "변수들 간의 선형/비선형 인과관계의 형태와 강도 추출"
   ]
  },
  {
   "cell_type": "code",
   "execution_count": null,
   "id": "72c1b051",
   "metadata": {},
   "outputs": [],
   "source": []
  },
  {
   "cell_type": "markdown",
   "id": "74fab687",
   "metadata": {},
   "source": [
    "## (2) 연도 단위"
   ]
  },
  {
   "cell_type": "code",
   "execution_count": 14,
   "id": "6b0ae7e5",
   "metadata": {},
   "outputs": [
    {
     "name": "stdout",
     "output_type": "stream",
     "text": [
      "                               Area      Years  Subscribers\n",
      "0          United States and Canada  Q1 - 2018     60909000\n",
      "1   Europe,  Middle East and Africa  Q1 - 2018     29339000\n",
      "2                     Latin America  Q1 - 2018     21260000\n",
      "3                      Asia-Pacific  Q1 - 2018      7394000\n",
      "4          United States and Canada  Q2 - 2018     61870000\n",
      "5   Europe,  Middle East and Africa  Q2 - 2018     31317000\n",
      "6                     Latin America  Q2 - 2018     22795000\n",
      "7                      Asia-Pacific  Q2 - 2018      8372000\n",
      "8          United States and Canada  Q3 - 2018     63010000\n",
      "9   Europe,  Middle East and Africa  Q3 - 2018     33836000\n",
      "10                    Latin America  Q3 - 2018     24115000\n",
      "11                     Asia-Pacific  Q3 - 2018      9461000\n",
      "12         United States and Canada  Q4 - 2018     64757000\n",
      "13  Europe,  Middle East and Africa  Q4 - 2018     37818000\n",
      "14                    Latin America  Q4 - 2018     26077000\n",
      "15                     Asia-Pacific  Q4 - 2018     10607000\n",
      "16         United States and Canada  Q1 - 2019     66633000\n",
      "17  Europe,  Middle East and Africa  Q1 - 2019     42542000\n",
      "18                    Latin America  Q1 - 2019     27547000\n",
      "19                     Asia-Pacific  Q1 - 2019     12141000\n",
      "20         United States and Canada  Q2 - 2019     66501000\n",
      "21  Europe,  Middle East and Africa  Q2 - 2019     44229000\n",
      "22                    Latin America  Q2 - 2019     27890000\n",
      "23                     Asia-Pacific  Q2 - 2019     12942000\n",
      "24         United States and Canada  Q3 - 2019     67114000\n",
      "25  Europe,  Middle East and Africa  Q3 - 2019     47355000\n",
      "26                    Latin America  Q3 - 2019     29380000\n",
      "27                     Asia-Pacific  Q3 - 2019     14485000\n",
      "28         United States and Canada  Q4 - 2019     67662000\n",
      "29  Europe,  Middle East and Africa  Q4 - 2019     51778000\n",
      "30                    Latin America  Q4 - 2019     31417000\n",
      "31                     Asia-Pacific  Q4 - 2019     16233000\n",
      "32         United States and Canada  Q1 - 2020     69969000\n",
      "33  Europe,  Middle East and Africa  Q1 - 2020     58734000\n",
      "34                    Latin America  Q1 - 2020     34318000\n",
      "35                     Asia-Pacific  Q1 - 2020     19835000\n",
      "36         United States and Canada  Q2 - 2020     72904000\n",
      "37  Europe,  Middle East and Africa  Q2 - 2020     61483000\n",
      "38                    Latin America  Q2 - 2020     36068000\n",
      "39                     Asia-Pacific  Q2 - 2020     22492000\n",
      "\n",
      "\n",
      "                               Area      Years     Revenue\n",
      "0          United States and Canada  Q1 - 2018  1976157000\n",
      "1   Europe,  Middle East and Africa  Q1 - 2018   886649000\n",
      "2                     Latin America  Q1 - 2018   540182000\n",
      "3                      Asia-Pacific  Q1 - 2018   199117000\n",
      "4          United States and Canada  Q2 - 2018  2049546000\n",
      "5   Europe,  Middle East and Africa  Q2 - 2018   975497000\n",
      "6                     Latin America  Q2 - 2018   568071000\n",
      "7                      Asia-Pacific  Q2 - 2018   221252000\n",
      "8          United States and Canada  Q3 - 2018  2094850000\n",
      "9   Europe,  Middle East and Africa  Q3 - 2018  1004749000\n",
      "10                    Latin America  Q3 - 2018   562307000\n",
      "11                     Asia-Pacific  Q3 - 2018   248691000\n",
      "12         United States and Canada  Q4 - 2018  2160979000\n",
      "13  Europe,  Middle East and Africa  Q4 - 2018  1096812000\n",
      "14                    Latin America  Q4 - 2018   567137000\n",
      "15                     Asia-Pacific  Q4 - 2018   276756000\n",
      "16         United States and Canada  Q1 - 2019  2256851000\n",
      "17  Europe,  Middle East and Africa  Q1 - 2019  1233379000\n",
      "18                    Latin America  Q1 - 2019   630472000\n",
      "19                     Asia-Pacific  Q1 - 2019   319602000\n",
      "20         United States and Canada  Q2 - 2019  2501199000\n",
      "21  Europe,  Middle East and Africa  Q2 - 2019  1319087000\n",
      "22                    Latin America  Q2 - 2019   677136000\n",
      "23                     Asia-Pacific  Q2 - 2019   349494000\n",
      "24         United States and Canada  Q3 - 2019  2621250000\n",
      "25  Europe,  Middle East and Africa  Q3 - 2019  1428040000\n",
      "26                    Latin America  Q3 - 2019   741434000\n",
      "27                     Asia-Pacific  Q3 - 2019   382304000\n",
      "28         United States and Canada  Q4 - 2019  2671908000\n",
      "29  Europe,  Middle East and Africa  Q4 - 2019  1562561000\n",
      "30                    Latin America  Q4 - 2019   746392000\n",
      "31                     Asia-Pacific  Q4 - 2019   418121000\n",
      "32         United States and Canada  Q1 - 2020  2702776000\n",
      "33  Europe,  Middle East and Africa  Q1 - 2020  1723474000\n",
      "34                    Latin America  Q1 - 2020   793453000\n",
      "35                     Asia-Pacific  Q1 - 2020   483660000\n",
      "36         United States and Canada  Q2 - 2020  2839670000\n",
      "37  Europe,  Middle East and Africa  Q2 - 2020  1892537000\n",
      "38                    Latin America  Q2 - 2020   785368000\n",
      "39                     Asia-Pacific  Q2 - 2020   569140000\n",
      "\n",
      "\n"
     ]
    }
   ],
   "source": [
    "# 파일 경로(파이썬 파일과 같은 폴더)를 찾고, 변수 file_path1에 저장 - 2018~2020 연도별 구독자 수\n",
    "file_path_country_subs = './datathon-main/DataNetflixSubscriber2020_V2.csv'\n",
    "\n",
    "# read_csv() 함수로 데이터프레임 변환. 변수 df_country_subs에 저장\n",
    "df_country_subs = pd.read_csv(file_path_country_subs)\n",
    "print(df_country_subs)\n",
    "print('\\n')\n",
    "\n",
    "# 같은 시기 연도별 수입 액수.csv\n",
    "file_path_country_revenue = './datathon-main/DataNetflixRevenue2020_V2.csv'\n",
    "\n",
    "# read_csv() 함수로 데이터프레임 변환. 변수 df_country_revenue에 저장\n",
    "df_country_revenue = pd.read_csv(file_path_country_revenue)\n",
    "print(df_country_revenue)\n",
    "print('\\n')"
   ]
  },
  {
   "cell_type": "code",
   "execution_count": null,
   "id": "8733362a",
   "metadata": {},
   "outputs": [],
   "source": []
  },
  {
   "cell_type": "markdown",
   "id": "c9eff533",
   "metadata": {},
   "source": [
    "### ① 구독자 수와 수입의 상관관계 분석\n",
    "상관분석을 통해 \n",
    "독립적으로 움직이는 두 변수들 사이의 관계(상관관계)의 강도 도출"
   ]
  },
  {
   "cell_type": "code",
   "execution_count": 53,
   "id": "f15f5752",
   "metadata": {},
   "outputs": [
    {
     "data": {
      "text/html": [
       "<div>\n",
       "<style scoped>\n",
       "    .dataframe tbody tr th:only-of-type {\n",
       "        vertical-align: middle;\n",
       "    }\n",
       "\n",
       "    .dataframe tbody tr th {\n",
       "        vertical-align: top;\n",
       "    }\n",
       "\n",
       "    .dataframe thead th {\n",
       "        text-align: right;\n",
       "    }\n",
       "</style>\n",
       "<table border=\"1\" class=\"dataframe\">\n",
       "  <thead>\n",
       "    <tr style=\"text-align: right;\">\n",
       "      <th></th>\n",
       "      <th>Area_x</th>\n",
       "      <th>Years</th>\n",
       "      <th>Subscribers</th>\n",
       "      <th>Area_y</th>\n",
       "      <th>Revenue</th>\n",
       "    </tr>\n",
       "  </thead>\n",
       "  <tbody>\n",
       "    <tr>\n",
       "      <th>0</th>\n",
       "      <td>United States and Canada</td>\n",
       "      <td>Q1 - 2018</td>\n",
       "      <td>60909000</td>\n",
       "      <td>United States and Canada</td>\n",
       "      <td>1976157000</td>\n",
       "    </tr>\n",
       "    <tr>\n",
       "      <th>1</th>\n",
       "      <td>United States and Canada</td>\n",
       "      <td>Q1 - 2018</td>\n",
       "      <td>60909000</td>\n",
       "      <td>Europe,  Middle East and Africa</td>\n",
       "      <td>886649000</td>\n",
       "    </tr>\n",
       "    <tr>\n",
       "      <th>2</th>\n",
       "      <td>United States and Canada</td>\n",
       "      <td>Q1 - 2018</td>\n",
       "      <td>60909000</td>\n",
       "      <td>Latin America</td>\n",
       "      <td>540182000</td>\n",
       "    </tr>\n",
       "    <tr>\n",
       "      <th>3</th>\n",
       "      <td>United States and Canada</td>\n",
       "      <td>Q1 - 2018</td>\n",
       "      <td>60909000</td>\n",
       "      <td>Asia-Pacific</td>\n",
       "      <td>199117000</td>\n",
       "    </tr>\n",
       "    <tr>\n",
       "      <th>4</th>\n",
       "      <td>Europe,  Middle East and Africa</td>\n",
       "      <td>Q1 - 2018</td>\n",
       "      <td>29339000</td>\n",
       "      <td>United States and Canada</td>\n",
       "      <td>1976157000</td>\n",
       "    </tr>\n",
       "    <tr>\n",
       "      <th>...</th>\n",
       "      <td>...</td>\n",
       "      <td>...</td>\n",
       "      <td>...</td>\n",
       "      <td>...</td>\n",
       "      <td>...</td>\n",
       "    </tr>\n",
       "    <tr>\n",
       "      <th>155</th>\n",
       "      <td>Latin America</td>\n",
       "      <td>Q2 - 2020</td>\n",
       "      <td>36068000</td>\n",
       "      <td>Asia-Pacific</td>\n",
       "      <td>569140000</td>\n",
       "    </tr>\n",
       "    <tr>\n",
       "      <th>156</th>\n",
       "      <td>Asia-Pacific</td>\n",
       "      <td>Q2 - 2020</td>\n",
       "      <td>22492000</td>\n",
       "      <td>United States and Canada</td>\n",
       "      <td>2839670000</td>\n",
       "    </tr>\n",
       "    <tr>\n",
       "      <th>157</th>\n",
       "      <td>Asia-Pacific</td>\n",
       "      <td>Q2 - 2020</td>\n",
       "      <td>22492000</td>\n",
       "      <td>Europe,  Middle East and Africa</td>\n",
       "      <td>1892537000</td>\n",
       "    </tr>\n",
       "    <tr>\n",
       "      <th>158</th>\n",
       "      <td>Asia-Pacific</td>\n",
       "      <td>Q2 - 2020</td>\n",
       "      <td>22492000</td>\n",
       "      <td>Latin America</td>\n",
       "      <td>785368000</td>\n",
       "    </tr>\n",
       "    <tr>\n",
       "      <th>159</th>\n",
       "      <td>Asia-Pacific</td>\n",
       "      <td>Q2 - 2020</td>\n",
       "      <td>22492000</td>\n",
       "      <td>Asia-Pacific</td>\n",
       "      <td>569140000</td>\n",
       "    </tr>\n",
       "  </tbody>\n",
       "</table>\n",
       "<p>160 rows × 5 columns</p>\n",
       "</div>"
      ],
      "text/plain": [
       "                              Area_x      Years  Subscribers  \\\n",
       "0           United States and Canada  Q1 - 2018     60909000   \n",
       "1           United States and Canada  Q1 - 2018     60909000   \n",
       "2           United States and Canada  Q1 - 2018     60909000   \n",
       "3           United States and Canada  Q1 - 2018     60909000   \n",
       "4    Europe,  Middle East and Africa  Q1 - 2018     29339000   \n",
       "..                               ...        ...          ...   \n",
       "155                    Latin America  Q2 - 2020     36068000   \n",
       "156                     Asia-Pacific  Q2 - 2020     22492000   \n",
       "157                     Asia-Pacific  Q2 - 2020     22492000   \n",
       "158                     Asia-Pacific  Q2 - 2020     22492000   \n",
       "159                     Asia-Pacific  Q2 - 2020     22492000   \n",
       "\n",
       "                              Area_y     Revenue  \n",
       "0           United States and Canada  1976157000  \n",
       "1    Europe,  Middle East and Africa   886649000  \n",
       "2                      Latin America   540182000  \n",
       "3                       Asia-Pacific   199117000  \n",
       "4           United States and Canada  1976157000  \n",
       "..                               ...         ...  \n",
       "155                     Asia-Pacific   569140000  \n",
       "156         United States and Canada  2839670000  \n",
       "157  Europe,  Middle East and Africa  1892537000  \n",
       "158                    Latin America   785368000  \n",
       "159                     Asia-Pacific   569140000  \n",
       "\n",
       "[160 rows x 5 columns]"
      ]
     },
     "execution_count": 53,
     "metadata": {},
     "output_type": "execute_result"
    }
   ],
   "source": [
    "# 두 데이터프레임 병합\n",
    "\n",
    "# 데이터프레임 합치기 - 교집합. Years열을 기준으로 합치기\n",
    "df_merge_by_Years = pd.merge(df_country_subs, df_country_revenue, how='inner', on='Years')\n",
    "df_merge_by_Years"
   ]
  },
  {
   "cell_type": "code",
   "execution_count": 55,
   "id": "3c4c6881",
   "metadata": {},
   "outputs": [
    {
     "name": "stdout",
     "output_type": "stream",
     "text": [
      "             Subscribers   Revenue\n",
      "Subscribers     1.000000  0.900486\n",
      "Revenue         0.900486  1.000000\n"
     ]
    }
   ],
   "source": [
    "# 강도는 상관계수로 나타내어 표시\n",
    "# 상관계수 r = x와 y가 함께 변하는 정도 / x와 y가 각각 변하는 정도\n",
    "print(df_merge_by_country[['Subscribers','Revenue']].corr())"
   ]
  },
  {
   "cell_type": "markdown",
   "id": "2e9fb9c0",
   "metadata": {},
   "source": [
    "r값이 0.7~ 1.0 \n",
    "=> 같은 시기별의 두 변수(구독자수, 수입액수)는 강한 양의 상관관계를 가지고 있음"
   ]
  },
  {
   "cell_type": "code",
   "execution_count": null,
   "id": "4a088da4",
   "metadata": {},
   "outputs": [],
   "source": [
    "https://zephyrus1111.tistory.com/18\n",
    "2가지 선그래프\n",
    "\n",
    "# x, y축 데이터를 plot 함수에 입력\n",
    "\n",
    "# 'Area'가 'United States and Canada'인 행 데이터를 선택\n",
    "fig = plt.figure(figsize=(16,16)) ## 캔버스 생성\n",
    "fig.set_facecolor('white') ## 캔버스 색상 설정\n",
    "ax = fig.add_subplot() ## 그림 뼈대(프레임) 생성\n",
    "\n",
    "ax.plot(days,a_visits,marker='o',label='A') ## 선그래프 생성\n",
    "ax.plot(days,b_visits,marker='o',label='B') \n",
    "ax.plot(days,c_visits,marker='o',label='C') \n",
    "\n",
    "plt.plot(sr_one) = df_merge_by_area.loc['United States and Canada']"
   ]
  }
 ],
 "metadata": {
  "kernelspec": {
   "display_name": "Python 3 (ipykernel)",
   "language": "python",
   "name": "python3"
  },
  "language_info": {
   "codemirror_mode": {
    "name": "ipython",
    "version": 3
   },
   "file_extension": ".py",
   "mimetype": "text/x-python",
   "name": "python",
   "nbconvert_exporter": "python",
   "pygments_lexer": "ipython3",
   "version": "3.9.7"
  }
 },
 "nbformat": 4,
 "nbformat_minor": 5
}
