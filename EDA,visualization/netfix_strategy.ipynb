{
 "cells": [
  {
   "cell_type": "code",
   "execution_count": 1,
   "id": "5b4433c4",
   "metadata": {},
   "outputs": [],
   "source": [
    "import pandas as pd\n",
    "import numpy as np\n",
    "import matplotlib.pyplot as plt\n",
    "import seaborn as sns\n",
    "import missingno as msno\n",
    "import plotly.express as px\n",
    "import plotly.graph_objects as go\n",
    "\n",
    "import warnings\n",
    "warnings.filterwarnings(\"ignore\")"
   ]
  },
  {
   "cell_type": "code",
   "execution_count": 2,
   "id": "94d79c33",
   "metadata": {},
   "outputs": [
    {
     "data": {
      "text/html": [
       "<div>\n",
       "<style scoped>\n",
       "    .dataframe tbody tr th:only-of-type {\n",
       "        vertical-align: middle;\n",
       "    }\n",
       "\n",
       "    .dataframe tbody tr th {\n",
       "        vertical-align: top;\n",
       "    }\n",
       "\n",
       "    .dataframe thead th {\n",
       "        text-align: right;\n",
       "    }\n",
       "</style>\n",
       "<table border=\"1\" class=\"dataframe\">\n",
       "  <thead>\n",
       "    <tr style=\"text-align: right;\">\n",
       "      <th></th>\n",
       "      <th>show_id</th>\n",
       "      <th>type</th>\n",
       "      <th>title</th>\n",
       "      <th>director</th>\n",
       "      <th>cast</th>\n",
       "      <th>country</th>\n",
       "      <th>date_added</th>\n",
       "      <th>release_year</th>\n",
       "      <th>rating</th>\n",
       "      <th>duration</th>\n",
       "      <th>listed_in</th>\n",
       "      <th>description</th>\n",
       "    </tr>\n",
       "  </thead>\n",
       "  <tbody>\n",
       "    <tr>\n",
       "      <th>0</th>\n",
       "      <td>s1</td>\n",
       "      <td>Movie</td>\n",
       "      <td>Dick Johnson Is Dead</td>\n",
       "      <td>Kirsten Johnson</td>\n",
       "      <td>NaN</td>\n",
       "      <td>United States</td>\n",
       "      <td>September 25, 2021</td>\n",
       "      <td>2020</td>\n",
       "      <td>PG-13</td>\n",
       "      <td>90 min</td>\n",
       "      <td>Documentaries</td>\n",
       "      <td>As her father nears the end of his life, filmm...</td>\n",
       "    </tr>\n",
       "    <tr>\n",
       "      <th>1</th>\n",
       "      <td>s2</td>\n",
       "      <td>TV Show</td>\n",
       "      <td>Blood &amp; Water</td>\n",
       "      <td>NaN</td>\n",
       "      <td>Ama Qamata, Khosi Ngema, Gail Mabalane, Thaban...</td>\n",
       "      <td>South Africa</td>\n",
       "      <td>September 24, 2021</td>\n",
       "      <td>2021</td>\n",
       "      <td>TV-MA</td>\n",
       "      <td>2 Seasons</td>\n",
       "      <td>International TV Shows, TV Dramas, TV Mysteries</td>\n",
       "      <td>After crossing paths at a party, a Cape Town t...</td>\n",
       "    </tr>\n",
       "    <tr>\n",
       "      <th>2</th>\n",
       "      <td>s3</td>\n",
       "      <td>TV Show</td>\n",
       "      <td>Ganglands</td>\n",
       "      <td>Julien Leclercq</td>\n",
       "      <td>Sami Bouajila, Tracy Gotoas, Samuel Jouy, Nabi...</td>\n",
       "      <td>NaN</td>\n",
       "      <td>September 24, 2021</td>\n",
       "      <td>2021</td>\n",
       "      <td>TV-MA</td>\n",
       "      <td>1 Season</td>\n",
       "      <td>Crime TV Shows, International TV Shows, TV Act...</td>\n",
       "      <td>To protect his family from a powerful drug lor...</td>\n",
       "    </tr>\n",
       "    <tr>\n",
       "      <th>3</th>\n",
       "      <td>s4</td>\n",
       "      <td>TV Show</td>\n",
       "      <td>Jailbirds New Orleans</td>\n",
       "      <td>NaN</td>\n",
       "      <td>NaN</td>\n",
       "      <td>NaN</td>\n",
       "      <td>September 24, 2021</td>\n",
       "      <td>2021</td>\n",
       "      <td>TV-MA</td>\n",
       "      <td>1 Season</td>\n",
       "      <td>Docuseries, Reality TV</td>\n",
       "      <td>Feuds, flirtations and toilet talk go down amo...</td>\n",
       "    </tr>\n",
       "    <tr>\n",
       "      <th>4</th>\n",
       "      <td>s5</td>\n",
       "      <td>TV Show</td>\n",
       "      <td>Kota Factory</td>\n",
       "      <td>NaN</td>\n",
       "      <td>Mayur More, Jitendra Kumar, Ranjan Raj, Alam K...</td>\n",
       "      <td>India</td>\n",
       "      <td>September 24, 2021</td>\n",
       "      <td>2021</td>\n",
       "      <td>TV-MA</td>\n",
       "      <td>2 Seasons</td>\n",
       "      <td>International TV Shows, Romantic TV Shows, TV ...</td>\n",
       "      <td>In a city of coaching centers known to train I...</td>\n",
       "    </tr>\n",
       "  </tbody>\n",
       "</table>\n",
       "</div>"
      ],
      "text/plain": [
       "  show_id     type                  title         director  \\\n",
       "0      s1    Movie   Dick Johnson Is Dead  Kirsten Johnson   \n",
       "1      s2  TV Show          Blood & Water              NaN   \n",
       "2      s3  TV Show              Ganglands  Julien Leclercq   \n",
       "3      s4  TV Show  Jailbirds New Orleans              NaN   \n",
       "4      s5  TV Show           Kota Factory              NaN   \n",
       "\n",
       "                                                cast        country  \\\n",
       "0                                                NaN  United States   \n",
       "1  Ama Qamata, Khosi Ngema, Gail Mabalane, Thaban...   South Africa   \n",
       "2  Sami Bouajila, Tracy Gotoas, Samuel Jouy, Nabi...            NaN   \n",
       "3                                                NaN            NaN   \n",
       "4  Mayur More, Jitendra Kumar, Ranjan Raj, Alam K...          India   \n",
       "\n",
       "           date_added  release_year rating   duration  \\\n",
       "0  September 25, 2021          2020  PG-13     90 min   \n",
       "1  September 24, 2021          2021  TV-MA  2 Seasons   \n",
       "2  September 24, 2021          2021  TV-MA   1 Season   \n",
       "3  September 24, 2021          2021  TV-MA   1 Season   \n",
       "4  September 24, 2021          2021  TV-MA  2 Seasons   \n",
       "\n",
       "                                           listed_in  \\\n",
       "0                                      Documentaries   \n",
       "1    International TV Shows, TV Dramas, TV Mysteries   \n",
       "2  Crime TV Shows, International TV Shows, TV Act...   \n",
       "3                             Docuseries, Reality TV   \n",
       "4  International TV Shows, Romantic TV Shows, TV ...   \n",
       "\n",
       "                                         description  \n",
       "0  As her father nears the end of his life, filmm...  \n",
       "1  After crossing paths at a party, a Cape Town t...  \n",
       "2  To protect his family from a powerful drug lor...  \n",
       "3  Feuds, flirtations and toilet talk go down amo...  \n",
       "4  In a city of coaching centers known to train I...  "
      ]
     },
     "execution_count": 2,
     "metadata": {},
     "output_type": "execute_result"
    }
   ],
   "source": [
    "# data import\n",
    "main_df = pd.read_csv('./netflix_titles.csv')\n",
    "main_df.head()"
   ]
  },
  {
   "cell_type": "code",
   "execution_count": 3,
   "id": "80097886",
   "metadata": {},
   "outputs": [
    {
     "name": "stdout",
     "output_type": "stream",
     "text": [
      "<class 'pandas.core.frame.DataFrame'>\n",
      "RangeIndex: 8807 entries, 0 to 8806\n",
      "Data columns (total 12 columns):\n",
      " #   Column        Non-Null Count  Dtype \n",
      "---  ------        --------------  ----- \n",
      " 0   show_id       8807 non-null   object\n",
      " 1   type          8807 non-null   object\n",
      " 2   title         8807 non-null   object\n",
      " 3   director      6173 non-null   object\n",
      " 4   cast          7982 non-null   object\n",
      " 5   country       7976 non-null   object\n",
      " 6   date_added    8797 non-null   object\n",
      " 7   release_year  8807 non-null   int64 \n",
      " 8   rating        8803 non-null   object\n",
      " 9   duration      8804 non-null   object\n",
      " 10  listed_in     8807 non-null   object\n",
      " 11  description   8807 non-null   object\n",
      "dtypes: int64(1), object(11)\n",
      "memory usage: 825.8+ KB\n"
     ]
    }
   ],
   "source": [
    "main_df.info()"
   ]
  },
  {
   "cell_type": "markdown",
   "id": "ff36b1e8",
   "metadata": {},
   "source": [
    "- show_id: Unique ID for every Movie / Tv Show\n",
    "- type: Identifier - A Movie or TV Show\n",
    "- title: Title of the Movie / Tv Show\n",
    "- director: Director of the Movie\n",
    "- cast: Actors involved in the movie / show\n",
    "- country: Country where the movie / show was produced\n",
    "- date_added: Date it was added on Netflix\n",
    "- release_year: Actual Release year of the move / show\n",
    "- rating: TV Rating of the movie / show\n",
    "- duration: Total Duration - in minutes or number of seasons\n",
    "- listed_in: Genre\n",
    "- description: The summary description"
   ]
  },
  {
   "cell_type": "code",
   "execution_count": 4,
   "id": "3ace0fd3",
   "metadata": {},
   "outputs": [
    {
     "data": {
      "text/plain": [
       "<AxesSubplot:>"
      ]
     },
     "execution_count": 4,
     "metadata": {},
     "output_type": "execute_result"
    },
    {
     "data": {
      "image/png": "[encoded data removed]",
      "text/plain": [
       "<Figure size 1800x720 with 3 Axes>"
      ]
     },
     "metadata": {
      "needs_background": "light"
     },
     "output_type": "display_data"
    }
   ],
   "source": [
    "# 결측치 차트\n",
    "msno.bar(main_df)"
   ]
  },
  {
   "cell_type": "code",
   "execution_count": 5,
   "id": "87e68c8a",
   "metadata": {},
   "outputs": [
    {
     "data": {
      "text/plain": [
       "show_id            0\n",
       "type               0\n",
       "title              0\n",
       "director        2634\n",
       "cast             825\n",
       "country          831\n",
       "date_added        10\n",
       "release_year       0\n",
       "rating             4\n",
       "duration           3\n",
       "listed_in          0\n",
       "description        0\n",
       "dtype: int64"
      ]
     },
     "execution_count": 5,
     "metadata": {},
     "output_type": "execute_result"
    }
   ],
   "source": [
    "# 결측치 수\n",
    "main_df.isna().sum()"
   ]
  },
  {
   "cell_type": "code",
   "execution_count": 6,
   "id": "62804fdb",
   "metadata": {},
   "outputs": [
    {
     "data": {
      "text/plain": [
       "show_id         8807\n",
       "type               2\n",
       "title           8807\n",
       "director        4528\n",
       "cast            7692\n",
       "country          748\n",
       "date_added      1767\n",
       "release_year      74\n",
       "rating            17\n",
       "duration         220\n",
       "listed_in        514\n",
       "description     8775\n",
       "dtype: int64"
      ]
     },
     "execution_count": 6,
     "metadata": {},
     "output_type": "execute_result"
    }
   ],
   "source": [
    "# 유티크한 데이터 수\n",
    "main_df.nunique()"
   ]
  },
  {
   "cell_type": "markdown",
   "id": "e2dde5de",
   "metadata": {},
   "source": [
    "# 결측치 삭제"
   ]
  },
  {
   "cell_type": "code",
   "execution_count": 7,
   "id": "6c3687cc",
   "metadata": {},
   "outputs": [
    {
     "data": {
      "text/plain": [
       "show_id            0\n",
       "type               0\n",
       "title              0\n",
       "director        2621\n",
       "cast             825\n",
       "country          829\n",
       "date_added         0\n",
       "release_year       0\n",
       "rating             0\n",
       "duration           0\n",
       "listed_in          0\n",
       "description        0\n",
       "dtype: int64"
      ]
     },
     "execution_count": 7,
     "metadata": {},
     "output_type": "execute_result"
    }
   ],
   "source": [
    "# date_added 10개 행 삭제\n",
    "main_df = main_df[main_df['date_added'].notna()]\n",
    "\n",
    "# rating 4개 행 삭제\n",
    "main_df = main_df[main_df['rating'].notna()]\n",
    "\n",
    "# duration 3개 행 삭제\n",
    "main_df = main_df[main_df['duration'].notna()]\n",
    "\n",
    "main_df.isna().sum()"
   ]
  },
  {
   "cell_type": "markdown",
   "id": "4fc0cef4",
   "metadata": {},
   "source": [
    "# 데이터 타입 변환"
   ]
  },
  {
   "cell_type": "code",
   "execution_count": 8,
   "id": "1dec9e87",
   "metadata": {},
   "outputs": [
    {
     "data": {
      "text/plain": [
       "show_id         object\n",
       "type            object\n",
       "title           object\n",
       "director        object\n",
       "cast            object\n",
       "country         object\n",
       "date_added      object\n",
       "release_year     int64\n",
       "rating          object\n",
       "duration        object\n",
       "listed_in       object\n",
       "description     object\n",
       "dtype: object"
      ]
     },
     "execution_count": 8,
     "metadata": {},
     "output_type": "execute_result"
    }
   ],
   "source": [
    "main_df.dtypes"
   ]
  },
  {
   "cell_type": "markdown",
   "id": "b8e0e777",
   "metadata": {},
   "source": [
    "date_added -> datetime <br>\n",
    "duration -> int"
   ]
  },
  {
   "cell_type": "code",
   "execution_count": 10,
   "id": "78d8a61b",
   "metadata": {},
   "outputs": [
    {
     "data": {
      "text/plain": [
       "0      2021-09-25\n",
       "1      2021-09-24\n",
       "2      2021-09-24\n",
       "3      2021-09-24\n",
       "4      2021-09-24\n",
       "          ...    \n",
       "8802   2019-11-20\n",
       "8803   2019-07-01\n",
       "8804   2019-11-01\n",
       "8805   2020-01-11\n",
       "8806   2019-03-02\n",
       "Name: date_added, Length: 8790, dtype: datetime64[ns]"
      ]
     },
     "execution_count": 10,
     "metadata": {},
     "output_type": "execute_result"
    }
   ],
   "source": [
    "main_df['date_added'] = main_df['date_added'].astype('datetime64')\n",
    "main_df['date_added']"
   ]
  },
  {
   "cell_type": "markdown",
   "id": "7f374717",
   "metadata": {},
   "source": [
    "duration은 type에 따라 다르다.<br>\n",
    "type이 TV show인 경우, 1 Season or N Seasons로 구분된다."
   ]
  },
  {
   "cell_type": "code",
   "execution_count": 13,
   "id": "d876a253",
   "metadata": {},
   "outputs": [
    {
     "data": {
      "text/plain": [
       "1       2 Seasons\n",
       "2        1 Season\n",
       "3        1 Season\n",
       "4       2 Seasons\n",
       "5        1 Season\n",
       "          ...    \n",
       "8795    2 Seasons\n",
       "8796    2 Seasons\n",
       "8797    3 Seasons\n",
       "8800     1 Season\n",
       "8803    2 Seasons\n",
       "Name: duration, Length: 2664, dtype: object"
      ]
     },
     "execution_count": 13,
     "metadata": {},
     "output_type": "execute_result"
    }
   ],
   "source": [
    "main_df.loc[main_df['type'] == 'TV Show', 'duration']"
   ]
  },
  {
   "cell_type": "code",
   "execution_count": 14,
   "id": "fdd061c4",
   "metadata": {},
   "outputs": [
    {
     "data": {
      "text/plain": [
       "0"
      ]
     },
     "execution_count": 14,
     "metadata": {},
     "output_type": "execute_result"
    }
   ],
   "source": [
    "# 1 Season or N Seasons로 표기되지 않는 예외 확인\n",
    "(main_df.loc[main_df['type'] == 'TV Show', 'duration'].str.contains('Season') == False).sum()"
   ]
  },
  {
   "cell_type": "code",
   "execution_count": 15,
   "id": "78d3c16e",
   "metadata": {},
   "outputs": [
    {
     "data": {
      "text/plain": [
       "1       2\n",
       "2       1\n",
       "3       1\n",
       "4       2\n",
       "5       1\n",
       "       ..\n",
       "8795    2\n",
       "8796    2\n",
       "8797    3\n",
       "8800    1\n",
       "8803    2\n",
       "Name: duration, Length: 2664, dtype: object"
      ]
     },
     "execution_count": 15,
     "metadata": {},
     "output_type": "execute_result"
    }
   ],
   "source": [
    "# Season, Seasons 제거\n",
    "main_df.loc[main_df['type'] == 'TV Show', 'duration'] = main_df.loc[main_df['type'] == 'TV Show', 'duration'].apply(lambda x : x.split(\" \")[0])\n",
    "main_df.loc[main_df['type'] == 'TV Show', 'duration']"
   ]
  },
  {
   "cell_type": "markdown",
   "id": "2f73ca6c",
   "metadata": {},
   "source": [
    "type이 Movie인 경우, 모두 min으로 표기한다."
   ]
  },
  {
   "cell_type": "code",
   "execution_count": 16,
   "id": "1d2390a0",
   "metadata": {},
   "outputs": [
    {
     "data": {
      "text/plain": [
       "0        90 min\n",
       "6        91 min\n",
       "7       125 min\n",
       "9       104 min\n",
       "12      127 min\n",
       "         ...   \n",
       "8801     96 min\n",
       "8802    158 min\n",
       "8804     88 min\n",
       "8805     88 min\n",
       "8806    111 min\n",
       "Name: duration, Length: 6126, dtype: object"
      ]
     },
     "execution_count": 16,
     "metadata": {},
     "output_type": "execute_result"
    }
   ],
   "source": [
    "main_df.loc[main_df['type'] == 'Movie', 'duration']"
   ]
  },
  {
   "cell_type": "code",
   "execution_count": 17,
   "id": "eea284b1",
   "metadata": {},
   "outputs": [
    {
     "data": {
      "text/plain": [
       "0"
      ]
     },
     "execution_count": 17,
     "metadata": {},
     "output_type": "execute_result"
    }
   ],
   "source": [
    "# min으로 표기되지 않는 예외 확인\n",
    "(main_df.loc[main_df['type'] == 'Movie', 'duration'].str.contains('min') == False).sum()"
   ]
  },
  {
   "cell_type": "code",
   "execution_count": 18,
   "id": "3065b0a2",
   "metadata": {},
   "outputs": [
    {
     "data": {
      "text/plain": [
       "0        90\n",
       "6        91\n",
       "7       125\n",
       "9       104\n",
       "12      127\n",
       "       ... \n",
       "8801     96\n",
       "8802    158\n",
       "8804     88\n",
       "8805     88\n",
       "8806    111\n",
       "Name: duration, Length: 6126, dtype: object"
      ]
     },
     "execution_count": 18,
     "metadata": {},
     "output_type": "execute_result"
    }
   ],
   "source": [
    "# min 제거\n",
    "main_df.loc[main_df['type'] == 'Movie', 'duration'] = main_df.loc[main_df['type'] == 'Movie', 'duration'].apply(lambda x: x.split(\" \")[0])\n",
    "main_df.loc[main_df['type'] == 'Movie', 'duration']"
   ]
  },
  {
   "cell_type": "code",
   "execution_count": 19,
   "id": "0f0b4923",
   "metadata": {},
   "outputs": [],
   "source": [
    "main_df['duration'] = main_df['duration'].astype('int64')"
   ]
  },
  {
   "cell_type": "code",
   "execution_count": 20,
   "id": "71e40d5c",
   "metadata": {},
   "outputs": [
    {
     "data": {
      "text/html": [
       "<div>\n",
       "<style scoped>\n",
       "    .dataframe tbody tr th:only-of-type {\n",
       "        vertical-align: middle;\n",
       "    }\n",
       "\n",
       "    .dataframe tbody tr th {\n",
       "        vertical-align: top;\n",
       "    }\n",
       "\n",
       "    .dataframe thead th {\n",
       "        text-align: right;\n",
       "    }\n",
       "</style>\n",
       "<table border=\"1\" class=\"dataframe\">\n",
       "  <thead>\n",
       "    <tr style=\"text-align: right;\">\n",
       "      <th></th>\n",
       "      <th>show_id</th>\n",
       "      <th>type</th>\n",
       "      <th>title</th>\n",
       "      <th>director</th>\n",
       "      <th>cast</th>\n",
       "      <th>country</th>\n",
       "      <th>date_added</th>\n",
       "      <th>release_year</th>\n",
       "      <th>rating</th>\n",
       "      <th>duration</th>\n",
       "      <th>listed_in</th>\n",
       "      <th>description</th>\n",
       "    </tr>\n",
       "  </thead>\n",
       "  <tbody>\n",
       "    <tr>\n",
       "      <th>0</th>\n",
       "      <td>s1</td>\n",
       "      <td>Movie</td>\n",
       "      <td>Dick Johnson Is Dead</td>\n",
       "      <td>Kirsten Johnson</td>\n",
       "      <td>NaN</td>\n",
       "      <td>United States</td>\n",
       "      <td>2021-09-25</td>\n",
       "      <td>2020</td>\n",
       "      <td>PG-13</td>\n",
       "      <td>90</td>\n",
       "      <td>Documentaries</td>\n",
       "      <td>As her father nears the end of his life, filmm...</td>\n",
       "    </tr>\n",
       "    <tr>\n",
       "      <th>1</th>\n",
       "      <td>s2</td>\n",
       "      <td>TV Show</td>\n",
       "      <td>Blood &amp; Water</td>\n",
       "      <td>NaN</td>\n",
       "      <td>Ama Qamata, Khosi Ngema, Gail Mabalane, Thaban...</td>\n",
       "      <td>South Africa</td>\n",
       "      <td>2021-09-24</td>\n",
       "      <td>2021</td>\n",
       "      <td>TV-MA</td>\n",
       "      <td>2</td>\n",
       "      <td>International TV Shows, TV Dramas, TV Mysteries</td>\n",
       "      <td>After crossing paths at a party, a Cape Town t...</td>\n",
       "    </tr>\n",
       "    <tr>\n",
       "      <th>2</th>\n",
       "      <td>s3</td>\n",
       "      <td>TV Show</td>\n",
       "      <td>Ganglands</td>\n",
       "      <td>Julien Leclercq</td>\n",
       "      <td>Sami Bouajila, Tracy Gotoas, Samuel Jouy, Nabi...</td>\n",
       "      <td>NaN</td>\n",
       "      <td>2021-09-24</td>\n",
       "      <td>2021</td>\n",
       "      <td>TV-MA</td>\n",
       "      <td>1</td>\n",
       "      <td>Crime TV Shows, International TV Shows, TV Act...</td>\n",
       "      <td>To protect his family from a powerful drug lor...</td>\n",
       "    </tr>\n",
       "    <tr>\n",
       "      <th>3</th>\n",
       "      <td>s4</td>\n",
       "      <td>TV Show</td>\n",
       "      <td>Jailbirds New Orleans</td>\n",
       "      <td>NaN</td>\n",
       "      <td>NaN</td>\n",
       "      <td>NaN</td>\n",
       "      <td>2021-09-24</td>\n",
       "      <td>2021</td>\n",
       "      <td>TV-MA</td>\n",
       "      <td>1</td>\n",
       "      <td>Docuseries, Reality TV</td>\n",
       "      <td>Feuds, flirtations and toilet talk go down amo...</td>\n",
       "    </tr>\n",
       "    <tr>\n",
       "      <th>4</th>\n",
       "      <td>s5</td>\n",
       "      <td>TV Show</td>\n",
       "      <td>Kota Factory</td>\n",
       "      <td>NaN</td>\n",
       "      <td>Mayur More, Jitendra Kumar, Ranjan Raj, Alam K...</td>\n",
       "      <td>India</td>\n",
       "      <td>2021-09-24</td>\n",
       "      <td>2021</td>\n",
       "      <td>TV-MA</td>\n",
       "      <td>2</td>\n",
       "      <td>International TV Shows, Romantic TV Shows, TV ...</td>\n",
       "      <td>In a city of coaching centers known to train I...</td>\n",
       "    </tr>\n",
       "  </tbody>\n",
       "</table>\n",
       "</div>"
      ],
      "text/plain": [
       "  show_id     type                  title         director  \\\n",
       "0      s1    Movie   Dick Johnson Is Dead  Kirsten Johnson   \n",
       "1      s2  TV Show          Blood & Water              NaN   \n",
       "2      s3  TV Show              Ganglands  Julien Leclercq   \n",
       "3      s4  TV Show  Jailbirds New Orleans              NaN   \n",
       "4      s5  TV Show           Kota Factory              NaN   \n",
       "\n",
       "                                                cast        country  \\\n",
       "0                                                NaN  United States   \n",
       "1  Ama Qamata, Khosi Ngema, Gail Mabalane, Thaban...   South Africa   \n",
       "2  Sami Bouajila, Tracy Gotoas, Samuel Jouy, Nabi...            NaN   \n",
       "3                                                NaN            NaN   \n",
       "4  Mayur More, Jitendra Kumar, Ranjan Raj, Alam K...          India   \n",
       "\n",
       "  date_added  release_year rating  duration  \\\n",
       "0 2021-09-25          2020  PG-13        90   \n",
       "1 2021-09-24          2021  TV-MA         2   \n",
       "2 2021-09-24          2021  TV-MA         1   \n",
       "3 2021-09-24          2021  TV-MA         1   \n",
       "4 2021-09-24          2021  TV-MA         2   \n",
       "\n",
       "                                           listed_in  \\\n",
       "0                                      Documentaries   \n",
       "1    International TV Shows, TV Dramas, TV Mysteries   \n",
       "2  Crime TV Shows, International TV Shows, TV Act...   \n",
       "3                             Docuseries, Reality TV   \n",
       "4  International TV Shows, Romantic TV Shows, TV ...   \n",
       "\n",
       "                                         description  \n",
       "0  As her father nears the end of his life, filmm...  \n",
       "1  After crossing paths at a party, a Cape Town t...  \n",
       "2  To protect his family from a powerful drug lor...  \n",
       "3  Feuds, flirtations and toilet talk go down amo...  \n",
       "4  In a city of coaching centers known to train I...  "
      ]
     },
     "execution_count": 20,
     "metadata": {},
     "output_type": "execute_result"
    }
   ],
   "source": [
    "# 데이터 확인\n",
    "main_df.head()"
   ]
  },
  {
   "cell_type": "markdown",
   "id": "c19bd01b",
   "metadata": {},
   "source": [
    "# 시계열 데이터로 변환"
   ]
  },
  {
   "cell_type": "code",
   "execution_count": 21,
   "id": "cde095ac",
   "metadata": {},
   "outputs": [
    {
     "data": {
      "text/html": [
       "<div>\n",
       "<style scoped>\n",
       "    .dataframe tbody tr th:only-of-type {\n",
       "        vertical-align: middle;\n",
       "    }\n",
       "\n",
       "    .dataframe tbody tr th {\n",
       "        vertical-align: top;\n",
       "    }\n",
       "\n",
       "    .dataframe thead th {\n",
       "        text-align: right;\n",
       "    }\n",
       "</style>\n",
       "<table border=\"1\" class=\"dataframe\">\n",
       "  <thead>\n",
       "    <tr style=\"text-align: right;\">\n",
       "      <th></th>\n",
       "      <th>show_id</th>\n",
       "      <th>type</th>\n",
       "      <th>title</th>\n",
       "      <th>director</th>\n",
       "      <th>cast</th>\n",
       "      <th>country</th>\n",
       "      <th>release_year</th>\n",
       "      <th>rating</th>\n",
       "      <th>duration</th>\n",
       "      <th>listed_in</th>\n",
       "      <th>description</th>\n",
       "    </tr>\n",
       "    <tr>\n",
       "      <th>date_added</th>\n",
       "      <th></th>\n",
       "      <th></th>\n",
       "      <th></th>\n",
       "      <th></th>\n",
       "      <th></th>\n",
       "      <th></th>\n",
       "      <th></th>\n",
       "      <th></th>\n",
       "      <th></th>\n",
       "      <th></th>\n",
       "      <th></th>\n",
       "    </tr>\n",
       "  </thead>\n",
       "  <tbody>\n",
       "    <tr>\n",
       "      <th>2008-01-01</th>\n",
       "      <td>s5958</td>\n",
       "      <td>Movie</td>\n",
       "      <td>To and From New York</td>\n",
       "      <td>Sorin Dan Mihalcescu</td>\n",
       "      <td>Barbara King, Shaana Diya, John Krisiukenas, Y...</td>\n",
       "      <td>United States</td>\n",
       "      <td>2006</td>\n",
       "      <td>TV-MA</td>\n",
       "      <td>81</td>\n",
       "      <td>Dramas, Independent Movies, Thrillers</td>\n",
       "      <td>While covering a story in New York City, a Sea...</td>\n",
       "    </tr>\n",
       "    <tr>\n",
       "      <th>2008-02-04</th>\n",
       "      <td>s6612</td>\n",
       "      <td>TV Show</td>\n",
       "      <td>Dinner for Five</td>\n",
       "      <td>NaN</td>\n",
       "      <td>NaN</td>\n",
       "      <td>United States</td>\n",
       "      <td>2007</td>\n",
       "      <td>TV-MA</td>\n",
       "      <td>1</td>\n",
       "      <td>Stand-Up Comedy &amp; Talk Shows</td>\n",
       "      <td>In each episode, four celebrities join host Jo...</td>\n",
       "    </tr>\n",
       "    <tr>\n",
       "      <th>2009-05-05</th>\n",
       "      <td>s5957</td>\n",
       "      <td>Movie</td>\n",
       "      <td>Just Another Love Story</td>\n",
       "      <td>Ole Bornedal</td>\n",
       "      <td>Anders W. Berthelsen, Rebecka Hemse, Nikolaj L...</td>\n",
       "      <td>Denmark</td>\n",
       "      <td>2007</td>\n",
       "      <td>TV-MA</td>\n",
       "      <td>104</td>\n",
       "      <td>Dramas, International Movies</td>\n",
       "      <td>When he causes a car accident that leaves a yo...</td>\n",
       "    </tr>\n",
       "    <tr>\n",
       "      <th>2009-11-18</th>\n",
       "      <td>s5956</td>\n",
       "      <td>Movie</td>\n",
       "      <td>Splatter</td>\n",
       "      <td>Joe Dante</td>\n",
       "      <td>Corey Feldman, Tony Todd, Tara Leigh, Erin Way...</td>\n",
       "      <td>United States</td>\n",
       "      <td>2009</td>\n",
       "      <td>TV-MA</td>\n",
       "      <td>29</td>\n",
       "      <td>Horror Movies</td>\n",
       "      <td>After committing suicide, a washed-up rocker r...</td>\n",
       "    </tr>\n",
       "    <tr>\n",
       "      <th>2010-11-01</th>\n",
       "      <td>s7371</td>\n",
       "      <td>Movie</td>\n",
       "      <td>Mad Ron's Prevues from Hell</td>\n",
       "      <td>Jim Monaco</td>\n",
       "      <td>Nick Pawlow, Jordu Schell, Jay Kushwara, Micha...</td>\n",
       "      <td>United States</td>\n",
       "      <td>1987</td>\n",
       "      <td>NR</td>\n",
       "      <td>84</td>\n",
       "      <td>Cult Movies, Horror Movies</td>\n",
       "      <td>This collection cherry-picks trailers, forgott...</td>\n",
       "    </tr>\n",
       "    <tr>\n",
       "      <th>...</th>\n",
       "      <td>...</td>\n",
       "      <td>...</td>\n",
       "      <td>...</td>\n",
       "      <td>...</td>\n",
       "      <td>...</td>\n",
       "      <td>...</td>\n",
       "      <td>...</td>\n",
       "      <td>...</td>\n",
       "      <td>...</td>\n",
       "      <td>...</td>\n",
       "      <td>...</td>\n",
       "    </tr>\n",
       "    <tr>\n",
       "      <th>2021-09-24</th>\n",
       "      <td>s9</td>\n",
       "      <td>TV Show</td>\n",
       "      <td>The Great British Baking Show</td>\n",
       "      <td>Andy Devonshire</td>\n",
       "      <td>Mel Giedroyc, Sue Perkins, Mary Berry, Paul Ho...</td>\n",
       "      <td>United Kingdom</td>\n",
       "      <td>2021</td>\n",
       "      <td>TV-14</td>\n",
       "      <td>9</td>\n",
       "      <td>British TV Shows, Reality TV</td>\n",
       "      <td>A talented batch of amateur bakers face off in...</td>\n",
       "    </tr>\n",
       "    <tr>\n",
       "      <th>2021-09-24</th>\n",
       "      <td>s10</td>\n",
       "      <td>Movie</td>\n",
       "      <td>The Starling</td>\n",
       "      <td>Theodore Melfi</td>\n",
       "      <td>Melissa McCarthy, Chris O'Dowd, Kevin Kline, T...</td>\n",
       "      <td>United States</td>\n",
       "      <td>2021</td>\n",
       "      <td>PG-13</td>\n",
       "      <td>104</td>\n",
       "      <td>Comedies, Dramas</td>\n",
       "      <td>A woman adjusting to life after a loss contend...</td>\n",
       "    </tr>\n",
       "    <tr>\n",
       "      <th>2021-09-24</th>\n",
       "      <td>s11</td>\n",
       "      <td>TV Show</td>\n",
       "      <td>Vendetta: Truth, Lies and The Mafia</td>\n",
       "      <td>NaN</td>\n",
       "      <td>NaN</td>\n",
       "      <td>NaN</td>\n",
       "      <td>2021</td>\n",
       "      <td>TV-MA</td>\n",
       "      <td>1</td>\n",
       "      <td>Crime TV Shows, Docuseries, International TV S...</td>\n",
       "      <td>Sicily boasts a bold \"Anti-Mafia\" coalition. B...</td>\n",
       "    </tr>\n",
       "    <tr>\n",
       "      <th>2021-09-24</th>\n",
       "      <td>s5</td>\n",
       "      <td>TV Show</td>\n",
       "      <td>Kota Factory</td>\n",
       "      <td>NaN</td>\n",
       "      <td>Mayur More, Jitendra Kumar, Ranjan Raj, Alam K...</td>\n",
       "      <td>India</td>\n",
       "      <td>2021</td>\n",
       "      <td>TV-MA</td>\n",
       "      <td>2</td>\n",
       "      <td>International TV Shows, Romantic TV Shows, TV ...</td>\n",
       "      <td>In a city of coaching centers known to train I...</td>\n",
       "    </tr>\n",
       "    <tr>\n",
       "      <th>2021-09-25</th>\n",
       "      <td>s1</td>\n",
       "      <td>Movie</td>\n",
       "      <td>Dick Johnson Is Dead</td>\n",
       "      <td>Kirsten Johnson</td>\n",
       "      <td>NaN</td>\n",
       "      <td>United States</td>\n",
       "      <td>2020</td>\n",
       "      <td>PG-13</td>\n",
       "      <td>90</td>\n",
       "      <td>Documentaries</td>\n",
       "      <td>As her father nears the end of his life, filmm...</td>\n",
       "    </tr>\n",
       "  </tbody>\n",
       "</table>\n",
       "<p>8790 rows × 11 columns</p>\n",
       "</div>"
      ],
      "text/plain": [
       "           show_id     type                                title  \\\n",
       "date_added                                                         \n",
       "2008-01-01   s5958    Movie                 To and From New York   \n",
       "2008-02-04   s6612  TV Show                      Dinner for Five   \n",
       "2009-05-05   s5957    Movie              Just Another Love Story   \n",
       "2009-11-18   s5956    Movie                             Splatter   \n",
       "2010-11-01   s7371    Movie          Mad Ron's Prevues from Hell   \n",
       "...            ...      ...                                  ...   \n",
       "2021-09-24      s9  TV Show        The Great British Baking Show   \n",
       "2021-09-24     s10    Movie                         The Starling   \n",
       "2021-09-24     s11  TV Show  Vendetta: Truth, Lies and The Mafia   \n",
       "2021-09-24      s5  TV Show                         Kota Factory   \n",
       "2021-09-25      s1    Movie                 Dick Johnson Is Dead   \n",
       "\n",
       "                        director  \\\n",
       "date_added                         \n",
       "2008-01-01  Sorin Dan Mihalcescu   \n",
       "2008-02-04                   NaN   \n",
       "2009-05-05          Ole Bornedal   \n",
       "2009-11-18             Joe Dante   \n",
       "2010-11-01            Jim Monaco   \n",
       "...                          ...   \n",
       "2021-09-24       Andy Devonshire   \n",
       "2021-09-24        Theodore Melfi   \n",
       "2021-09-24                   NaN   \n",
       "2021-09-24                   NaN   \n",
       "2021-09-25       Kirsten Johnson   \n",
       "\n",
       "                                                         cast         country  \\\n",
       "date_added                                                                      \n",
       "2008-01-01  Barbara King, Shaana Diya, John Krisiukenas, Y...   United States   \n",
       "2008-02-04                                                NaN   United States   \n",
       "2009-05-05  Anders W. Berthelsen, Rebecka Hemse, Nikolaj L...         Denmark   \n",
       "2009-11-18  Corey Feldman, Tony Todd, Tara Leigh, Erin Way...   United States   \n",
       "2010-11-01  Nick Pawlow, Jordu Schell, Jay Kushwara, Micha...   United States   \n",
       "...                                                       ...             ...   \n",
       "2021-09-24  Mel Giedroyc, Sue Perkins, Mary Berry, Paul Ho...  United Kingdom   \n",
       "2021-09-24  Melissa McCarthy, Chris O'Dowd, Kevin Kline, T...   United States   \n",
       "2021-09-24                                                NaN             NaN   \n",
       "2021-09-24  Mayur More, Jitendra Kumar, Ranjan Raj, Alam K...           India   \n",
       "2021-09-25                                                NaN   United States   \n",
       "\n",
       "            release_year rating  duration  \\\n",
       "date_added                                  \n",
       "2008-01-01          2006  TV-MA        81   \n",
       "2008-02-04          2007  TV-MA         1   \n",
       "2009-05-05          2007  TV-MA       104   \n",
       "2009-11-18          2009  TV-MA        29   \n",
       "2010-11-01          1987     NR        84   \n",
       "...                  ...    ...       ...   \n",
       "2021-09-24          2021  TV-14         9   \n",
       "2021-09-24          2021  PG-13       104   \n",
       "2021-09-24          2021  TV-MA         1   \n",
       "2021-09-24          2021  TV-MA         2   \n",
       "2021-09-25          2020  PG-13        90   \n",
       "\n",
       "                                                    listed_in  \\\n",
       "date_added                                                      \n",
       "2008-01-01              Dramas, Independent Movies, Thrillers   \n",
       "2008-02-04                       Stand-Up Comedy & Talk Shows   \n",
       "2009-05-05                       Dramas, International Movies   \n",
       "2009-11-18                                      Horror Movies   \n",
       "2010-11-01                         Cult Movies, Horror Movies   \n",
       "...                                                       ...   \n",
       "2021-09-24                       British TV Shows, Reality TV   \n",
       "2021-09-24                                   Comedies, Dramas   \n",
       "2021-09-24  Crime TV Shows, Docuseries, International TV S...   \n",
       "2021-09-24  International TV Shows, Romantic TV Shows, TV ...   \n",
       "2021-09-25                                      Documentaries   \n",
       "\n",
       "                                                  description  \n",
       "date_added                                                     \n",
       "2008-01-01  While covering a story in New York City, a Sea...  \n",
       "2008-02-04  In each episode, four celebrities join host Jo...  \n",
       "2009-05-05  When he causes a car accident that leaves a yo...  \n",
       "2009-11-18  After committing suicide, a washed-up rocker r...  \n",
       "2010-11-01  This collection cherry-picks trailers, forgott...  \n",
       "...                                                       ...  \n",
       "2021-09-24  A talented batch of amateur bakers face off in...  \n",
       "2021-09-24  A woman adjusting to life after a loss contend...  \n",
       "2021-09-24  Sicily boasts a bold \"Anti-Mafia\" coalition. B...  \n",
       "2021-09-24  In a city of coaching centers known to train I...  \n",
       "2021-09-25  As her father nears the end of his life, filmm...  \n",
       "\n",
       "[8790 rows x 11 columns]"
      ]
     },
     "execution_count": 21,
     "metadata": {},
     "output_type": "execute_result"
    }
   ],
   "source": [
    "main_df = main_df.set_index('date_added').sort_index()\n",
    "main_df"
   ]
  },
  {
   "cell_type": "code",
   "execution_count": 22,
   "id": "f91fa9e0",
   "metadata": {},
   "outputs": [
    {
     "data": {
      "text/plain": [
       "<AxesSubplot:xlabel='date_added'>"
      ]
     },
     "execution_count": 22,
     "metadata": {},
     "output_type": "execute_result"
    },
    {
     "data": {
      "image/png": "[encoded data removed]",
      "text/plain": [
       "<Figure size 432x288 with 1 Axes>"
      ]
     },
     "metadata": {
      "needs_background": "light"
     },
     "output_type": "display_data"
    }
   ],
   "source": [
    "main_df['title'].resample('Q').count().plot()"
   ]
  },
  {
   "cell_type": "code",
   "execution_count": 23,
   "id": "53d2092f",
   "metadata": {},
   "outputs": [
    {
     "data": {
      "text/plain": [
       "<AxesSubplot:xlabel='date_added'>"
      ]
     },
     "execution_count": 23,
     "metadata": {},
     "output_type": "execute_result"
    },
    {
     "data": {
      "image/png": "[encoded data removed]",
      "text/plain": [
       "<Figure size 432x288 with 1 Axes>"
      ]
     },
     "metadata": {
      "needs_background": "light"
     },
     "output_type": "display_data"
    }
   ],
   "source": [
    "main_df['title'].resample('Y').count().plot()"
   ]
  },
  {
   "cell_type": "code",
   "execution_count": 24,
   "id": "be383cbf",
   "metadata": {},
   "outputs": [
    {
     "data": {
      "text/plain": [
       "date_added\n",
       "2008-12-31       2\n",
       "2009-12-31       2\n",
       "2010-12-31       1\n",
       "2011-12-31      13\n",
       "2012-12-31       3\n",
       "2013-12-31      11\n",
       "2014-12-31      24\n",
       "2015-12-31      82\n",
       "2016-12-31     426\n",
       "2017-12-31    1185\n",
       "2018-12-31    1648\n",
       "2019-12-31    2016\n",
       "2020-12-31    1879\n",
       "2021-12-31    1498\n",
       "Freq: A-DEC, Name: title, dtype: int64"
      ]
     },
     "execution_count": 24,
     "metadata": {},
     "output_type": "execute_result"
    }
   ],
   "source": [
    "main_df['title'].resample('Y').count()"
   ]
  },
  {
   "cell_type": "markdown",
   "id": "ca8d6598",
   "metadata": {},
   "source": [
    "2016년부터 콘텐츠 수가 급등한다.<br>\n",
    "시간축을 그대로 사용하면 불균형한 데이터가 되므로, 전체 기간을 몇 개의 구간으로 나누어 데이터가 몰리지 않도록 한다.<br>"
   ]
  },
  {
   "cell_type": "code",
   "execution_count": 33,
   "id": "a68990e9",
   "metadata": {},
   "outputs": [
    {
     "name": "stdout",
     "output_type": "stream",
     "text": [
      "8790\n"
     ]
    }
   ],
   "source": [
    "# 0부터 9까지, 879개가 들어가도록 한다.\n",
    "sections = []\n",
    "for i in range(0, 10):\n",
    "    section = np.ones(879, dtype=np.int8) * i\n",
    "    sections.extend(section)\n",
    "print(len(sections))"
   ]
  },
  {
   "cell_type": "code",
   "execution_count": 34,
   "id": "3a3ceba6",
   "metadata": {},
   "outputs": [
    {
     "data": {
      "text/plain": [
       "show_id         object\n",
       "type            object\n",
       "title           object\n",
       "director        object\n",
       "cast            object\n",
       "country         object\n",
       "release_year     int64\n",
       "rating          object\n",
       "duration         int64\n",
       "listed_in       object\n",
       "description     object\n",
       "sections        object\n",
       "dtype: object"
      ]
     },
     "execution_count": 34,
     "metadata": {},
     "output_type": "execute_result"
    }
   ],
   "source": [
    "main_df['sections'] = sections\n",
    "main_df['sections'] = main_df['sections'].astype('str')\n",
    "main_df.dtypes"
   ]
  },
  {
   "cell_type": "code",
   "execution_count": 44,
   "id": "70164812",
   "metadata": {},
   "outputs": [
    {
     "data": {
      "image/png": "[encoded data removed]",
      "text/plain": [
       "<Figure size 864x576 with 1 Axes>"
      ]
     },
     "metadata": {
      "needs_background": "light"
     },
     "output_type": "display_data"
    }
   ],
   "source": [
    "count_sections = main_df.groupby('sections').count()['title']\n",
    "\n",
    "plt.figure(figsize = (12, 8))\n",
    "sns.barplot(x=count_sections.index, y=count_sections.values)\n",
    "\n",
    "plt.xlabel('period (past --> now)')\n",
    "plt.ylabel('count')\n",
    "plt.show()"
   ]
  },
  {
   "cell_type": "markdown",
   "id": "eb4314d9",
   "metadata": {},
   "source": [
    "8790개의 데이터를 879개씩 10개로 분할하였다.\n",
    "sections이 9에 가까워질수록 현재와 가깝다."
   ]
  },
  {
   "cell_type": "markdown",
   "id": "99b37f09",
   "metadata": {},
   "source": [
    "# 넷플릭스 전략 (예상)\n",
    "\n",
    "(최근이 될 수록)\n",
    "*리뷰사이트 평점 top 1000*\n",
    "\n",
    "**2. 다양한 국가의 콘텐츠를 늘린다. 나라별 작품 / 등급, 장르, 나라를 엮어서 분석하기**\n",
    "**3. 키즈 콘텐츠를 늘린다.(디즈니와 키즈컨텐츠 어떻게 다른지 - 앞으로의 방향성도 알 수 있을 것)**\n",
    "**4. 다양한 장르의 콘텐츠를 늘린다. / 넷플릭스 오리지널이 추가되면서 전략방향 변경여부 / 코로나 이후 재난영화**\n",
    "\n",
    "\n",
    "**시각화 라이브러리 matplotlib, seaborn, plotly, volia**"
   ]
  },
  {
   "cell_type": "markdown",
   "id": "eb19f97f",
   "metadata": {},
   "source": [
    "### TV Show의 비중이 늘어나는가"
   ]
  },
  {
   "cell_type": "code",
   "execution_count": 36,
   "id": "eaa6fd2d",
   "metadata": {},
   "outputs": [
    {
     "data": {
      "text/html": [
       "<div>\n",
       "<style scoped>\n",
       "    .dataframe tbody tr th:only-of-type {\n",
       "        vertical-align: middle;\n",
       "    }\n",
       "\n",
       "    .dataframe tbody tr th {\n",
       "        vertical-align: top;\n",
       "    }\n",
       "\n",
       "    .dataframe thead th {\n",
       "        text-align: right;\n",
       "    }\n",
       "</style>\n",
       "<table border=\"1\" class=\"dataframe\">\n",
       "  <thead>\n",
       "    <tr style=\"text-align: right;\">\n",
       "      <th></th>\n",
       "      <th>sections</th>\n",
       "      <th>type</th>\n",
       "      <th>title</th>\n",
       "    </tr>\n",
       "  </thead>\n",
       "  <tbody>\n",
       "    <tr>\n",
       "      <th>0</th>\n",
       "      <td>0</td>\n",
       "      <td>Movie</td>\n",
       "      <td>588</td>\n",
       "    </tr>\n",
       "    <tr>\n",
       "      <th>1</th>\n",
       "      <td>0</td>\n",
       "      <td>TV Show</td>\n",
       "      <td>291</td>\n",
       "    </tr>\n",
       "    <tr>\n",
       "      <th>2</th>\n",
       "      <td>1</td>\n",
       "      <td>Movie</td>\n",
       "      <td>609</td>\n",
       "    </tr>\n",
       "    <tr>\n",
       "      <th>3</th>\n",
       "      <td>1</td>\n",
       "      <td>TV Show</td>\n",
       "      <td>270</td>\n",
       "    </tr>\n",
       "    <tr>\n",
       "      <th>4</th>\n",
       "      <td>2</td>\n",
       "      <td>Movie</td>\n",
       "      <td>683</td>\n",
       "    </tr>\n",
       "    <tr>\n",
       "      <th>5</th>\n",
       "      <td>2</td>\n",
       "      <td>TV Show</td>\n",
       "      <td>196</td>\n",
       "    </tr>\n",
       "    <tr>\n",
       "      <th>6</th>\n",
       "      <td>3</td>\n",
       "      <td>Movie</td>\n",
       "      <td>635</td>\n",
       "    </tr>\n",
       "    <tr>\n",
       "      <th>7</th>\n",
       "      <td>3</td>\n",
       "      <td>TV Show</td>\n",
       "      <td>244</td>\n",
       "    </tr>\n",
       "    <tr>\n",
       "      <th>8</th>\n",
       "      <td>4</td>\n",
       "      <td>Movie</td>\n",
       "      <td>623</td>\n",
       "    </tr>\n",
       "    <tr>\n",
       "      <th>9</th>\n",
       "      <td>4</td>\n",
       "      <td>TV Show</td>\n",
       "      <td>256</td>\n",
       "    </tr>\n",
       "    <tr>\n",
       "      <th>10</th>\n",
       "      <td>5</td>\n",
       "      <td>Movie</td>\n",
       "      <td>600</td>\n",
       "    </tr>\n",
       "    <tr>\n",
       "      <th>11</th>\n",
       "      <td>5</td>\n",
       "      <td>TV Show</td>\n",
       "      <td>279</td>\n",
       "    </tr>\n",
       "    <tr>\n",
       "      <th>12</th>\n",
       "      <td>6</td>\n",
       "      <td>Movie</td>\n",
       "      <td>624</td>\n",
       "    </tr>\n",
       "    <tr>\n",
       "      <th>13</th>\n",
       "      <td>6</td>\n",
       "      <td>TV Show</td>\n",
       "      <td>255</td>\n",
       "    </tr>\n",
       "    <tr>\n",
       "      <th>14</th>\n",
       "      <td>7</td>\n",
       "      <td>Movie</td>\n",
       "      <td>606</td>\n",
       "    </tr>\n",
       "    <tr>\n",
       "      <th>15</th>\n",
       "      <td>7</td>\n",
       "      <td>TV Show</td>\n",
       "      <td>273</td>\n",
       "    </tr>\n",
       "    <tr>\n",
       "      <th>16</th>\n",
       "      <td>8</td>\n",
       "      <td>Movie</td>\n",
       "      <td>595</td>\n",
       "    </tr>\n",
       "    <tr>\n",
       "      <th>17</th>\n",
       "      <td>8</td>\n",
       "      <td>TV Show</td>\n",
       "      <td>284</td>\n",
       "    </tr>\n",
       "    <tr>\n",
       "      <th>18</th>\n",
       "      <td>9</td>\n",
       "      <td>Movie</td>\n",
       "      <td>563</td>\n",
       "    </tr>\n",
       "    <tr>\n",
       "      <th>19</th>\n",
       "      <td>9</td>\n",
       "      <td>TV Show</td>\n",
       "      <td>316</td>\n",
       "    </tr>\n",
       "  </tbody>\n",
       "</table>\n",
       "</div>"
      ],
      "text/plain": [
       "   sections     type  title\n",
       "0         0    Movie    588\n",
       "1         0  TV Show    291\n",
       "2         1    Movie    609\n",
       "3         1  TV Show    270\n",
       "4         2    Movie    683\n",
       "5         2  TV Show    196\n",
       "6         3    Movie    635\n",
       "7         3  TV Show    244\n",
       "8         4    Movie    623\n",
       "9         4  TV Show    256\n",
       "10        5    Movie    600\n",
       "11        5  TV Show    279\n",
       "12        6    Movie    624\n",
       "13        6  TV Show    255\n",
       "14        7    Movie    606\n",
       "15        7  TV Show    273\n",
       "16        8    Movie    595\n",
       "17        8  TV Show    284\n",
       "18        9    Movie    563\n",
       "19        9  TV Show    316"
      ]
     },
     "execution_count": 36,
     "metadata": {},
     "output_type": "execute_result"
    }
   ],
   "source": [
    "main_df.groupby(['sections', 'type'])['title'].count().reset_index()"
   ]
  },
  {
   "cell_type": "code",
   "execution_count": 37,
   "id": "58f515aa",
   "metadata": {},
   "outputs": [
    {
     "data": {
      "text/html": [
       "<div>\n",
       "<style scoped>\n",
       "    .dataframe tbody tr th:only-of-type {\n",
       "        vertical-align: middle;\n",
       "    }\n",
       "\n",
       "    .dataframe tbody tr th {\n",
       "        vertical-align: top;\n",
       "    }\n",
       "\n",
       "    .dataframe thead th {\n",
       "        text-align: right;\n",
       "    }\n",
       "</style>\n",
       "<table border=\"1\" class=\"dataframe\">\n",
       "  <thead>\n",
       "    <tr style=\"text-align: right;\">\n",
       "      <th></th>\n",
       "      <th></th>\n",
       "      <th>count</th>\n",
       "    </tr>\n",
       "    <tr>\n",
       "      <th>sections</th>\n",
       "      <th>type</th>\n",
       "      <th></th>\n",
       "    </tr>\n",
       "  </thead>\n",
       "  <tbody>\n",
       "    <tr>\n",
       "      <th rowspan=\"2\" valign=\"top\">0</th>\n",
       "      <th>Movie</th>\n",
       "      <td>588</td>\n",
       "    </tr>\n",
       "    <tr>\n",
       "      <th>TV Show</th>\n",
       "      <td>291</td>\n",
       "    </tr>\n",
       "    <tr>\n",
       "      <th rowspan=\"2\" valign=\"top\">1</th>\n",
       "      <th>Movie</th>\n",
       "      <td>609</td>\n",
       "    </tr>\n",
       "    <tr>\n",
       "      <th>TV Show</th>\n",
       "      <td>270</td>\n",
       "    </tr>\n",
       "    <tr>\n",
       "      <th rowspan=\"2\" valign=\"top\">2</th>\n",
       "      <th>Movie</th>\n",
       "      <td>683</td>\n",
       "    </tr>\n",
       "    <tr>\n",
       "      <th>TV Show</th>\n",
       "      <td>196</td>\n",
       "    </tr>\n",
       "    <tr>\n",
       "      <th rowspan=\"2\" valign=\"top\">3</th>\n",
       "      <th>Movie</th>\n",
       "      <td>635</td>\n",
       "    </tr>\n",
       "    <tr>\n",
       "      <th>TV Show</th>\n",
       "      <td>244</td>\n",
       "    </tr>\n",
       "    <tr>\n",
       "      <th rowspan=\"2\" valign=\"top\">4</th>\n",
       "      <th>Movie</th>\n",
       "      <td>623</td>\n",
       "    </tr>\n",
       "    <tr>\n",
       "      <th>TV Show</th>\n",
       "      <td>256</td>\n",
       "    </tr>\n",
       "    <tr>\n",
       "      <th rowspan=\"2\" valign=\"top\">5</th>\n",
       "      <th>Movie</th>\n",
       "      <td>600</td>\n",
       "    </tr>\n",
       "    <tr>\n",
       "      <th>TV Show</th>\n",
       "      <td>279</td>\n",
       "    </tr>\n",
       "    <tr>\n",
       "      <th rowspan=\"2\" valign=\"top\">6</th>\n",
       "      <th>Movie</th>\n",
       "      <td>624</td>\n",
       "    </tr>\n",
       "    <tr>\n",
       "      <th>TV Show</th>\n",
       "      <td>255</td>\n",
       "    </tr>\n",
       "    <tr>\n",
       "      <th rowspan=\"2\" valign=\"top\">7</th>\n",
       "      <th>Movie</th>\n",
       "      <td>606</td>\n",
       "    </tr>\n",
       "    <tr>\n",
       "      <th>TV Show</th>\n",
       "      <td>273</td>\n",
       "    </tr>\n",
       "    <tr>\n",
       "      <th rowspan=\"2\" valign=\"top\">8</th>\n",
       "      <th>Movie</th>\n",
       "      <td>595</td>\n",
       "    </tr>\n",
       "    <tr>\n",
       "      <th>TV Show</th>\n",
       "      <td>284</td>\n",
       "    </tr>\n",
       "    <tr>\n",
       "      <th rowspan=\"2\" valign=\"top\">9</th>\n",
       "      <th>Movie</th>\n",
       "      <td>563</td>\n",
       "    </tr>\n",
       "    <tr>\n",
       "      <th>TV Show</th>\n",
       "      <td>316</td>\n",
       "    </tr>\n",
       "  </tbody>\n",
       "</table>\n",
       "</div>"
      ],
      "text/plain": [
       "                  count\n",
       "sections type          \n",
       "0        Movie      588\n",
       "         TV Show    291\n",
       "1        Movie      609\n",
       "         TV Show    270\n",
       "2        Movie      683\n",
       "         TV Show    196\n",
       "3        Movie      635\n",
       "         TV Show    244\n",
       "4        Movie      623\n",
       "         TV Show    256\n",
       "5        Movie      600\n",
       "         TV Show    279\n",
       "6        Movie      624\n",
       "         TV Show    255\n",
       "7        Movie      606\n",
       "         TV Show    273\n",
       "8        Movie      595\n",
       "         TV Show    284\n",
       "9        Movie      563\n",
       "         TV Show    316"
      ]
     },
     "execution_count": 37,
     "metadata": {},
     "output_type": "execute_result"
    }
   ],
   "source": [
    "count_type = pd.DataFrame(main_df.groupby(['sections', 'type']).count()['title'])\n",
    "count_type.columns = ['count']\n",
    "count_type"
   ]
  },
  {
   "cell_type": "code",
   "execution_count": 38,
   "id": "30aeff4d",
   "metadata": {},
   "outputs": [
    {
     "data": {
      "text/html": [
       "<div>\n",
       "<style scoped>\n",
       "    .dataframe tbody tr th:only-of-type {\n",
       "        vertical-align: middle;\n",
       "    }\n",
       "\n",
       "    .dataframe tbody tr th {\n",
       "        vertical-align: top;\n",
       "    }\n",
       "\n",
       "    .dataframe thead th {\n",
       "        text-align: right;\n",
       "    }\n",
       "</style>\n",
       "<table border=\"1\" class=\"dataframe\">\n",
       "  <thead>\n",
       "    <tr style=\"text-align: right;\">\n",
       "      <th></th>\n",
       "      <th>movie</th>\n",
       "      <th>tv</th>\n",
       "    </tr>\n",
       "    <tr>\n",
       "      <th>sections</th>\n",
       "      <th></th>\n",
       "      <th></th>\n",
       "    </tr>\n",
       "  </thead>\n",
       "  <tbody>\n",
       "    <tr>\n",
       "      <th>0</th>\n",
       "      <td>588</td>\n",
       "      <td>291</td>\n",
       "    </tr>\n",
       "    <tr>\n",
       "      <th>1</th>\n",
       "      <td>609</td>\n",
       "      <td>270</td>\n",
       "    </tr>\n",
       "    <tr>\n",
       "      <th>2</th>\n",
       "      <td>683</td>\n",
       "      <td>196</td>\n",
       "    </tr>\n",
       "    <tr>\n",
       "      <th>3</th>\n",
       "      <td>635</td>\n",
       "      <td>244</td>\n",
       "    </tr>\n",
       "    <tr>\n",
       "      <th>4</th>\n",
       "      <td>623</td>\n",
       "      <td>256</td>\n",
       "    </tr>\n",
       "    <tr>\n",
       "      <th>5</th>\n",
       "      <td>600</td>\n",
       "      <td>279</td>\n",
       "    </tr>\n",
       "    <tr>\n",
       "      <th>6</th>\n",
       "      <td>624</td>\n",
       "      <td>255</td>\n",
       "    </tr>\n",
       "    <tr>\n",
       "      <th>7</th>\n",
       "      <td>606</td>\n",
       "      <td>273</td>\n",
       "    </tr>\n",
       "    <tr>\n",
       "      <th>8</th>\n",
       "      <td>595</td>\n",
       "      <td>284</td>\n",
       "    </tr>\n",
       "    <tr>\n",
       "      <th>9</th>\n",
       "      <td>563</td>\n",
       "      <td>316</td>\n",
       "    </tr>\n",
       "  </tbody>\n",
       "</table>\n",
       "</div>"
      ],
      "text/plain": [
       "          movie   tv\n",
       "sections            \n",
       "0           588  291\n",
       "1           609  270\n",
       "2           683  196\n",
       "3           635  244\n",
       "4           623  256\n",
       "5           600  279\n",
       "6           624  255\n",
       "7           606  273\n",
       "8           595  284\n",
       "9           563  316"
      ]
     },
     "execution_count": 38,
     "metadata": {},
     "output_type": "execute_result"
    }
   ],
   "source": [
    "count_type = pd.pivot_table(count_type, index='sections', columns='type')\n",
    "count_type.columns = ['movie', 'tv']\n",
    "count_type"
   ]
  },
  {
   "cell_type": "code",
   "execution_count": 50,
   "id": "28c6a2b4",
   "metadata": {},
   "outputs": [
    {
     "data": {
      "image/png": "[encoded data removed]",
      "text/plain": [
       "<Figure size 864x576 with 1 Axes>"
      ]
     },
     "metadata": {
      "needs_background": "light"
     },
     "output_type": "display_data"
    }
   ],
   "source": [
    "plt.figure(figsize = (12, 8))\n",
    "\n",
    "sns.lineplot(data=count_type, x=count_type.index, y=count_type['movie'], label='Movie')\n",
    "sns.lineplot(data=count_type, x=count_type.index, y=count_type['tv'], label='TV Show')\n",
    "\n",
    "plt.legend()\n",
    "plt.xlabel('Period (Past ---> Now)')\n",
    "plt.ylabel('The Number of Contents')\n",
    "\n",
    "plt.show()"
   ]
  },
  {
   "cell_type": "markdown",
   "id": "abf6ace6",
   "metadata": {},
   "source": [
    "**영화의 수가 훨씬 더 많지만, 추이를 보면 TV Show가 늘어나고 있는 것을 확인할 수 있다.**"
   ]
  },
  {
   "cell_type": "markdown",
   "id": "5637c9d2",
   "metadata": {},
   "source": [
    "### 다양한 국가의 콘텐츠가 늘어나는가"
   ]
  },
  {
   "cell_type": "code",
   "execution_count": 49,
   "id": "cb742978",
   "metadata": {},
   "outputs": [
    {
     "data": {
      "text/plain": [
       "United States                    241\n",
       "India                             46\n",
       "Japan                             29\n",
       "United Kingdom                    22\n",
       "Nigeria                           17\n",
       "United States, Canada             15\n",
       "South Korea                        9\n",
       "United Kingdom, United States      8\n",
       "Spain                              8\n",
       "United States, United Kingdom      8\n",
       "Name: country, dtype: int64"
      ]
     },
     "execution_count": 49,
     "metadata": {},
     "output_type": "execute_result"
    }
   ],
   "source": [
    "# 가장 최근 콘텐츠의 제작 국가\n",
    "main_df.loc[main_df['sections'] == '9', 'country'].value_counts()[:10]"
   ]
  },
  {
   "cell_type": "code",
   "execution_count": 45,
   "id": "14d00f3d",
   "metadata": {},
   "outputs": [
    {
     "data": {
      "text/plain": [
       "Index(['United States', 'India', 'Japan', 'United Kingdom', 'Nigeria',\n",
       "       'United States, Canada', 'South Korea', 'United Kingdom, United States',\n",
       "       'Spain', 'United States, United Kingdom'],\n",
       "      dtype='object')"
      ]
     },
     "execution_count": 45,
     "metadata": {},
     "output_type": "execute_result"
    }
   ],
   "source": [
    "top10_countries = main_df.loc[main_df['sections'] == '9', 'country'].value_counts()[:10].index\n",
    "top10_countries"
   ]
  },
  {
   "cell_type": "code",
   "execution_count": 46,
   "id": "799d234f",
   "metadata": {},
   "outputs": [
    {
     "data": {
      "text/html": [
       "<div>\n",
       "<style scoped>\n",
       "    .dataframe tbody tr th:only-of-type {\n",
       "        vertical-align: middle;\n",
       "    }\n",
       "\n",
       "    .dataframe tbody tr th {\n",
       "        vertical-align: top;\n",
       "    }\n",
       "\n",
       "    .dataframe thead th {\n",
       "        text-align: right;\n",
       "    }\n",
       "</style>\n",
       "<table border=\"1\" class=\"dataframe\">\n",
       "  <thead>\n",
       "    <tr style=\"text-align: right;\">\n",
       "      <th></th>\n",
       "      <th>country</th>\n",
       "      <th>sections</th>\n",
       "    </tr>\n",
       "    <tr>\n",
       "      <th>date_added</th>\n",
       "      <th></th>\n",
       "      <th></th>\n",
       "    </tr>\n",
       "  </thead>\n",
       "  <tbody>\n",
       "    <tr>\n",
       "      <th>2008-01-01</th>\n",
       "      <td>United States</td>\n",
       "      <td>0</td>\n",
       "    </tr>\n",
       "    <tr>\n",
       "      <th>2008-02-04</th>\n",
       "      <td>United States</td>\n",
       "      <td>0</td>\n",
       "    </tr>\n",
       "    <tr>\n",
       "      <th>2009-11-18</th>\n",
       "      <td>United States</td>\n",
       "      <td>0</td>\n",
       "    </tr>\n",
       "    <tr>\n",
       "      <th>2010-11-01</th>\n",
       "      <td>United States</td>\n",
       "      <td>0</td>\n",
       "    </tr>\n",
       "    <tr>\n",
       "      <th>2011-10-01</th>\n",
       "      <td>United States</td>\n",
       "      <td>0</td>\n",
       "    </tr>\n",
       "    <tr>\n",
       "      <th>...</th>\n",
       "      <td>...</td>\n",
       "      <td>...</td>\n",
       "    </tr>\n",
       "    <tr>\n",
       "      <th>2021-09-22</th>\n",
       "      <td>United States</td>\n",
       "      <td>9</td>\n",
       "    </tr>\n",
       "    <tr>\n",
       "      <th>2021-09-24</th>\n",
       "      <td>United Kingdom</td>\n",
       "      <td>9</td>\n",
       "    </tr>\n",
       "    <tr>\n",
       "      <th>2021-09-24</th>\n",
       "      <td>United States</td>\n",
       "      <td>9</td>\n",
       "    </tr>\n",
       "    <tr>\n",
       "      <th>2021-09-24</th>\n",
       "      <td>India</td>\n",
       "      <td>9</td>\n",
       "    </tr>\n",
       "    <tr>\n",
       "      <th>2021-09-25</th>\n",
       "      <td>United States</td>\n",
       "      <td>9</td>\n",
       "    </tr>\n",
       "  </tbody>\n",
       "</table>\n",
       "<p>5076 rows × 2 columns</p>\n",
       "</div>"
      ],
      "text/plain": [
       "                   country sections\n",
       "date_added                         \n",
       "2008-01-01   United States        0\n",
       "2008-02-04   United States        0\n",
       "2009-11-18   United States        0\n",
       "2010-11-01   United States        0\n",
       "2011-10-01   United States        0\n",
       "...                    ...      ...\n",
       "2021-09-22   United States        9\n",
       "2021-09-24  United Kingdom        9\n",
       "2021-09-24   United States        9\n",
       "2021-09-24           India        9\n",
       "2021-09-25   United States        9\n",
       "\n",
       "[5076 rows x 2 columns]"
      ]
     },
     "execution_count": 46,
     "metadata": {},
     "output_type": "execute_result"
    }
   ],
   "source": [
    "sections_by_top10 = main_df.loc[main_df['country'].isin(top10_countries), ['country', 'sections']]\n",
    "sections_by_top10"
   ]
  },
  {
   "cell_type": "code",
   "execution_count": 47,
   "id": "81a899af",
   "metadata": {},
   "outputs": [
    {
     "data": {
      "text/html": [
       "<div>\n",
       "<style scoped>\n",
       "    .dataframe tbody tr th:only-of-type {\n",
       "        vertical-align: middle;\n",
       "    }\n",
       "\n",
       "    .dataframe tbody tr th {\n",
       "        vertical-align: top;\n",
       "    }\n",
       "\n",
       "    .dataframe thead th {\n",
       "        text-align: right;\n",
       "    }\n",
       "</style>\n",
       "<table border=\"1\" class=\"dataframe\">\n",
       "  <thead>\n",
       "    <tr style=\"text-align: right;\">\n",
       "      <th></th>\n",
       "      <th>country</th>\n",
       "    </tr>\n",
       "    <tr>\n",
       "      <th>sections</th>\n",
       "      <th></th>\n",
       "    </tr>\n",
       "  </thead>\n",
       "  <tbody>\n",
       "    <tr>\n",
       "      <th>0</th>\n",
       "      <td>351</td>\n",
       "    </tr>\n",
       "    <tr>\n",
       "      <th>1</th>\n",
       "      <td>261</td>\n",
       "    </tr>\n",
       "    <tr>\n",
       "      <th>2</th>\n",
       "      <td>258</td>\n",
       "    </tr>\n",
       "    <tr>\n",
       "      <th>3</th>\n",
       "      <td>233</td>\n",
       "    </tr>\n",
       "    <tr>\n",
       "      <th>4</th>\n",
       "      <td>276</td>\n",
       "    </tr>\n",
       "    <tr>\n",
       "      <th>5</th>\n",
       "      <td>336</td>\n",
       "    </tr>\n",
       "    <tr>\n",
       "      <th>6</th>\n",
       "      <td>286</td>\n",
       "    </tr>\n",
       "    <tr>\n",
       "      <th>7</th>\n",
       "      <td>270</td>\n",
       "    </tr>\n",
       "    <tr>\n",
       "      <th>8</th>\n",
       "      <td>297</td>\n",
       "    </tr>\n",
       "    <tr>\n",
       "      <th>9</th>\n",
       "      <td>241</td>\n",
       "    </tr>\n",
       "  </tbody>\n",
       "</table>\n",
       "</div>"
      ],
      "text/plain": [
       "          country\n",
       "sections         \n",
       "0             351\n",
       "1             261\n",
       "2             258\n",
       "3             233\n",
       "4             276\n",
       "5             336\n",
       "6             286\n",
       "7             270\n",
       "8             297\n",
       "9             241"
      ]
     },
     "execution_count": 47,
     "metadata": {},
     "output_type": "execute_result"
    }
   ],
   "source": [
    "sections_by_top10.loc[sections_by_top10['country'] == top10_countries[0]].groupby('sections').count()"
   ]
  },
  {
   "cell_type": "code",
   "execution_count": 59,
   "id": "9c0766a7",
   "metadata": {},
   "outputs": [
    {
     "data": {
      "image/png": "[encoded data removed]",
      "text/plain": [
       "<Figure size 864x576 with 1 Axes>"
      ]
     },
     "metadata": {
      "needs_background": "light"
     },
     "output_type": "display_data"
    }
   ],
   "source": [
    "plt.figure(figsize = (12, 8))\n",
    "\n",
    "for country in list(top10_countries):\n",
    "    count_country = sections_by_top10.loc[sections_by_top10['country'] == country].groupby('sections').count()\n",
    "    sns.lineplot(data=count_country, x=count_country.index, y=count_country['country'], label=country)\n",
    "    \n",
    "plt.legend(loc='center right')\n",
    "plt.xlabel('Period (Past ---> Now)')\n",
    "plt.ylabel('The Count of Countries')\n",
    "\n",
    "plt.show()"
   ]
  },
  {
   "cell_type": "markdown",
   "id": "eef7bf49",
   "metadata": {},
   "source": [
    "**미국과 인도, 영국의 비중이 줄어들고 있지만 다른 나라의 콘텐츠가 늘어나고 있는지는 다른 방법으로 더 살펴봐야 할 것 같다.**"
   ]
  },
  {
   "cell_type": "markdown",
   "id": "7e5e6d30",
   "metadata": {},
   "source": [
    "### 키즈 콘텐츠가 늘어나는가"
   ]
  },
  {
   "cell_type": "code",
   "execution_count": 60,
   "id": "94d51394",
   "metadata": {},
   "outputs": [
    {
     "data": {
      "text/plain": [
       "array(['TV-MA', 'NR', 'TV-PG', 'TV-14', 'PG', 'R', 'TV-G', 'G', 'TV-Y',\n",
       "       'TV-Y7-FV', 'TV-Y7', 'PG-13', 'NC-17', 'UR'], dtype=object)"
      ]
     },
     "execution_count": 60,
     "metadata": {},
     "output_type": "execute_result"
    }
   ],
   "source": [
    "main_df['rating'].unique()"
   ]
  },
  {
   "cell_type": "code",
   "execution_count": 62,
   "id": "31c41b6a",
   "metadata": {},
   "outputs": [],
   "source": [
    "rating_dict = {\n",
    "    'little kids' : ['G','TV-G','TV-Y'],              # 전체관람가\n",
    "    'older kids' : ['PG','TV-Y7','TV-Y7-FV','TV-PG'], # 7세 이상\n",
    "    'teens' : ['PG-13', 'TV-14'],                     # 13세, 16세 이상\n",
    "    'adult' : ['NC-17','R','TV-MA','NR','UR']         # 18세 이상, 청불 포함\n",
    "}"
   ]
  },
  {
   "cell_type": "code",
   "execution_count": 64,
   "id": "5dd86918",
   "metadata": {},
   "outputs": [
    {
     "data": {
      "text/html": [
       "<div>\n",
       "<style scoped>\n",
       "    .dataframe tbody tr th:only-of-type {\n",
       "        vertical-align: middle;\n",
       "    }\n",
       "\n",
       "    .dataframe tbody tr th {\n",
       "        vertical-align: top;\n",
       "    }\n",
       "\n",
       "    .dataframe thead th {\n",
       "        text-align: right;\n",
       "    }\n",
       "</style>\n",
       "<table border=\"1\" class=\"dataframe\">\n",
       "  <thead>\n",
       "    <tr style=\"text-align: right;\">\n",
       "      <th></th>\n",
       "      <th>little kids</th>\n",
       "      <th>older kids</th>\n",
       "      <th>teens</th>\n",
       "      <th>adult</th>\n",
       "    </tr>\n",
       "  </thead>\n",
       "  <tbody>\n",
       "    <tr>\n",
       "      <th>0</th>\n",
       "      <td>257</td>\n",
       "      <td>206</td>\n",
       "      <td>207</td>\n",
       "      <td>427</td>\n",
       "    </tr>\n",
       "    <tr>\n",
       "      <th>1</th>\n",
       "      <td>240</td>\n",
       "      <td>191</td>\n",
       "      <td>278</td>\n",
       "      <td>383</td>\n",
       "    </tr>\n",
       "    <tr>\n",
       "      <th>2</th>\n",
       "      <td>213</td>\n",
       "      <td>164</td>\n",
       "      <td>248</td>\n",
       "      <td>445</td>\n",
       "    </tr>\n",
       "    <tr>\n",
       "      <th>3</th>\n",
       "      <td>223</td>\n",
       "      <td>182</td>\n",
       "      <td>288</td>\n",
       "      <td>405</td>\n",
       "    </tr>\n",
       "    <tr>\n",
       "      <th>4</th>\n",
       "      <td>221</td>\n",
       "      <td>183</td>\n",
       "      <td>263</td>\n",
       "      <td>433</td>\n",
       "    </tr>\n",
       "    <tr>\n",
       "      <th>5</th>\n",
       "      <td>277</td>\n",
       "      <td>218</td>\n",
       "      <td>260</td>\n",
       "      <td>417</td>\n",
       "    </tr>\n",
       "    <tr>\n",
       "      <th>6</th>\n",
       "      <td>259</td>\n",
       "      <td>196</td>\n",
       "      <td>290</td>\n",
       "      <td>394</td>\n",
       "    </tr>\n",
       "    <tr>\n",
       "      <th>7</th>\n",
       "      <td>264</td>\n",
       "      <td>190</td>\n",
       "      <td>262</td>\n",
       "      <td>404</td>\n",
       "    </tr>\n",
       "    <tr>\n",
       "      <th>8</th>\n",
       "      <td>294</td>\n",
       "      <td>206</td>\n",
       "      <td>271</td>\n",
       "      <td>385</td>\n",
       "    </tr>\n",
       "    <tr>\n",
       "      <th>9</th>\n",
       "      <td>296</td>\n",
       "      <td>241</td>\n",
       "      <td>280</td>\n",
       "      <td>396</td>\n",
       "    </tr>\n",
       "  </tbody>\n",
       "</table>\n",
       "</div>"
      ],
      "text/plain": [
       "   little kids  older kids  teens  adult\n",
       "0          257         206    207    427\n",
       "1          240         191    278    383\n",
       "2          213         164    248    445\n",
       "3          223         182    288    405\n",
       "4          221         183    263    433\n",
       "5          277         218    260    417\n",
       "6          259         196    290    394\n",
       "7          264         190    262    404\n",
       "8          294         206    271    385\n",
       "9          296         241    280    396"
      ]
     },
     "execution_count": 64,
     "metadata": {},
     "output_type": "execute_result"
    }
   ],
   "source": [
    "ratings = rating_dict.keys()\n",
    "rating_df = pd.DataFrame(columns=ratings)\n",
    "rating_list = []\n",
    "\n",
    "for i in range(0, 10):\n",
    "    rating_list = []\n",
    "    for key in rating_dict.keys():\n",
    "        rating_list.append(main_df.loc[main_df['sections'] == str(i), 'rating'].str.contains('|'.join(rating_dict[key])).sum())\n",
    "    rating_df = rating_df.append(pd.Series(rating_list, index = rating_df.columns), ignore_index = True)\n",
    "rating_df = rating_df.astype('int64')\n",
    "rating_df"
   ]
  },
  {
   "cell_type": "code",
   "execution_count": 65,
   "id": "6e2de72e",
   "metadata": {},
   "outputs": [
    {
     "data": {
      "image/png": "[encoded data removed]",
      "text/plain": [
       "<Figure size 864x576 with 1 Axes>"
      ]
     },
     "metadata": {
      "needs_background": "light"
     },
     "output_type": "display_data"
    }
   ],
   "source": [
    "plt.figure(figsize = (12, 8))\n",
    "\n",
    "for col in list(rating_df.columns):\n",
    "    sns.lineplot(data=rating_df, x=rating_df.index, y=rating_df[col], label=col)\n",
    "    \n",
    "plt.legend()\n",
    "plt.xlabel('Period (Past ---> Now)')\n",
    "plt.ylabel('The Count of Ratings')\n",
    "\n",
    "plt.show()"
   ]
  },
  {
   "cell_type": "markdown",
   "id": "01bba55a",
   "metadata": {},
   "source": [
    "**어른 대상이 더 많기는 하지만 감소하는 추세이고, 키즈 콘텐츠는 증가하는 추세이다.**"
   ]
  },
  {
   "cell_type": "markdown",
   "id": "7c7480b1",
   "metadata": {},
   "source": [
    "### 다양한 장르의 콘텐츠가 늘어나는가"
   ]
  },
  {
   "cell_type": "code",
   "execution_count": 66,
   "id": "bc4ae93b",
   "metadata": {},
   "outputs": [
    {
     "data": {
      "text/plain": [
       "Dramas, International Movies                            362\n",
       "Documentaries                                           359\n",
       "Stand-Up Comedy                                         334\n",
       "Comedies, Dramas, International Movies                  274\n",
       "Dramas, Independent Movies, International Movies        252\n",
       "                                                       ... \n",
       "Anime Features                                            1\n",
       "Classic Movies, Horror Movies, Thrillers                  1\n",
       "TV Sci-Fi & Fantasy, TV Thrillers                         1\n",
       "Action & Adventure, Classic Movies, Sci-Fi & Fantasy      1\n",
       "British TV Shows, Docuseries, Reality TV                  1\n",
       "Name: listed_in, Length: 513, dtype: int64"
      ]
     },
     "execution_count": 66,
     "metadata": {},
     "output_type": "execute_result"
    }
   ],
   "source": [
    "# 전체 기간 장르\n",
    "main_df['listed_in'].value_counts()"
   ]
  },
  {
   "cell_type": "code",
   "execution_count": 67,
   "id": "0a89e5e2",
   "metadata": {},
   "outputs": [
    {
     "data": {
      "image/png": "[encoded data removed]",
      "text/plain": [
       "<Figure size 432x288 with 1 Axes>"
      ]
     },
     "metadata": {
      "needs_background": "light"
     },
     "output_type": "display_data"
    }
   ],
   "source": [
    "main_df.groupby('sections')['listed_in'].nunique().plot()\n",
    "\n",
    "plt.xlabel('Period (Past ---> Now)')\n",
    "plt.ylabel('The Counts of Genre')\n",
    "plt.show()"
   ]
  },
  {
   "cell_type": "markdown",
   "id": "f2cd9901",
   "metadata": {},
   "source": [
    "**점점 더 장르가 다양해지고 있다.**"
   ]
  },
  {
   "cell_type": "code",
   "execution_count": 70,
   "id": "3a15ba7c",
   "metadata": {},
   "outputs": [
    {
     "data": {
      "image/png": "[encoded data removed]",
      "text/plain": [
       "<Figure size 864x576 with 1 Axes>"
      ]
     },
     "metadata": {
      "needs_background": "light"
     },
     "output_type": "display_data"
    }
   ],
   "source": [
    "# 과거와 현재 장르 다양성 비교\n",
    "top5_genre = main_df.loc[main_df['sections'] == '9', 'listed_in'].value_counts().index[:5]\n",
    "\n",
    "plt.figure(figsize = (12, 8))\n",
    "\n",
    "for genre in list(top5_genre):\n",
    "    genre_count = main_df.loc[main_df['listed_in'] == genre].groupby('sections').count()['listed_in']\n",
    "    sns.lineplot(x=genre_count.index, y=genre_count.values, label=genre)\n",
    "\n",
    "plt.xlabel('Periold (Past ---> Now)')\n",
    "plt.ylabel('The Count of Genre')\n",
    "plt.axvline(x=5, linestyle='--', color='r')\n",
    "plt.show()"
   ]
  },
  {
   "cell_type": "markdown",
   "id": "aef71fd9",
   "metadata": {},
   "source": [
    "**Dramas, International Movies의 비중이 다소 감소하고, 키즈, 가족 콘텐츠, 액션 등의 다양한 장르의 비중이 점점 높아지고 있다. (들쑥날쑥해서 써도 되는지 모르겠음)**"
   ]
  },
  {
   "cell_type": "code",
   "execution_count": null,
   "id": "35e725b8",
   "metadata": {},
   "outputs": [],
   "source": []
  }
 ],
 "metadata": {
  "kernelspec": {
   "display_name": "Python 3 (ipykernel)",
   "language": "python",
   "name": "python3"
  },
  "language_info": {
   "codemirror_mode": {
    "name": "ipython",
    "version": 3
   },
   "file_extension": ".py",
   "mimetype": "text/x-python",
   "name": "python",
   "nbconvert_exporter": "python",
   "pygments_lexer": "ipython3",
   "version": "3.9.7"
  }
 },
 "nbformat": 4,
 "nbformat_minor": 5
}
